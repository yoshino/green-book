{
 "cells": [
  {
   "attachments": {},
   "cell_type": "markdown",
   "metadata": {},
   "source": [
    "## 4. GLMのモデル選択\n",
    "- [introduction_to_statistical_modeling_for_data_analysis/chapter4.ipynb](https://github.com/ohke/introduction_to_statistical_modeling_for_data_analysis/blob/master/chapter4.ipynb)"
   ]
  },
  {
   "cell_type": "code",
   "execution_count": 36,
   "metadata": {},
   "outputs": [],
   "source": [
    "import numpy as np\n",
    "from scipy.stats import poisson\n",
    "import matplotlib.pyplot as plt\n",
    "import polars as pl\n",
    "import os"
   ]
  },
  {
   "cell_type": "code",
   "execution_count": 37,
   "metadata": {},
   "outputs": [
    {
     "data": {
      "text/html": [
       "<div>\n",
       "<style scoped>\n",
       "    .dataframe tbody tr th:only-of-type {\n",
       "        vertical-align: middle;\n",
       "    }\n",
       "\n",
       "    .dataframe tbody tr th {\n",
       "        vertical-align: top;\n",
       "    }\n",
       "\n",
       "    .dataframe thead th {\n",
       "        text-align: right;\n",
       "    }\n",
       "\n",
       "    .dataframe td {\n",
       "        white-space: pre;\n",
       "    }\n",
       "\n",
       "    .dataframe td {\n",
       "        padding-top: 0;\n",
       "    }\n",
       "\n",
       "    .dataframe td {\n",
       "        padding-bottom: 0;\n",
       "    }\n",
       "</style>\n",
       "<table border=\"1\" class=\"dataframe\">\n",
       "<small>shape: (5, 3)</small>\n",
       "<thead>\n",
       "<tr>\n",
       "<th>\n",
       "y\n",
       "</th>\n",
       "<th>\n",
       "x\n",
       "</th>\n",
       "<th>\n",
       "f\n",
       "</th>\n",
       "</tr>\n",
       "<tr>\n",
       "<td>\n",
       "i64\n",
       "</td>\n",
       "<td>\n",
       "f64\n",
       "</td>\n",
       "<td>\n",
       "str\n",
       "</td>\n",
       "</tr>\n",
       "</thead>\n",
       "<tbody>\n",
       "<tr>\n",
       "<td>\n",
       "6\n",
       "</td>\n",
       "<td>\n",
       "8.31\n",
       "</td>\n",
       "<td>\n",
       "&quot;C&quot;\n",
       "</td>\n",
       "</tr>\n",
       "<tr>\n",
       "<td>\n",
       "6\n",
       "</td>\n",
       "<td>\n",
       "9.44\n",
       "</td>\n",
       "<td>\n",
       "&quot;C&quot;\n",
       "</td>\n",
       "</tr>\n",
       "<tr>\n",
       "<td>\n",
       "6\n",
       "</td>\n",
       "<td>\n",
       "9.5\n",
       "</td>\n",
       "<td>\n",
       "&quot;C&quot;\n",
       "</td>\n",
       "</tr>\n",
       "<tr>\n",
       "<td>\n",
       "12\n",
       "</td>\n",
       "<td>\n",
       "9.07\n",
       "</td>\n",
       "<td>\n",
       "&quot;C&quot;\n",
       "</td>\n",
       "</tr>\n",
       "<tr>\n",
       "<td>\n",
       "10\n",
       "</td>\n",
       "<td>\n",
       "10.16\n",
       "</td>\n",
       "<td>\n",
       "&quot;C&quot;\n",
       "</td>\n",
       "</tr>\n",
       "</tbody>\n",
       "</table>\n",
       "</div>"
      ],
      "text/plain": [
       "shape: (5, 3)\n",
       "┌─────┬───────┬─────┐\n",
       "│ y   ┆ x     ┆ f   │\n",
       "│ --- ┆ ---   ┆ --- │\n",
       "│ i64 ┆ f64   ┆ str │\n",
       "╞═════╪═══════╪═════╡\n",
       "│ 6   ┆ 8.31  ┆ C   │\n",
       "│ 6   ┆ 9.44  ┆ C   │\n",
       "│ 6   ┆ 9.5   ┆ C   │\n",
       "│ 12  ┆ 9.07  ┆ C   │\n",
       "│ 10  ┆ 10.16 ┆ C   │\n",
       "└─────┴───────┴─────┘"
      ]
     },
     "execution_count": 37,
     "metadata": {},
     "output_type": "execute_result"
    }
   ],
   "source": [
    "file_path = './data/data3a.csv'\n",
    "\n",
    "if not os.path.isfile(file_path):\n",
    "  response = requests.get('https://kuboweb.github.io/-kubo/stat/iwanamibook/fig/poisson/data3a.csv')\n",
    "  with open (file_path, 'wb') as f:\n",
    "      f.write(response.content)\n",
    "      f.close()\n",
    "\n",
    "df = pl.read_csv(file_path)\n",
    "df.head()"
   ]
  },
  {
   "cell_type": "code",
   "execution_count": 38,
   "metadata": {},
   "outputs": [
    {
     "data": {
      "text/html": [
       "<div>\n",
       "<style scoped>\n",
       "    .dataframe tbody tr th:only-of-type {\n",
       "        vertical-align: middle;\n",
       "    }\n",
       "\n",
       "    .dataframe tbody tr th {\n",
       "        vertical-align: top;\n",
       "    }\n",
       "\n",
       "    .dataframe thead th {\n",
       "        text-align: right;\n",
       "    }\n",
       "\n",
       "    .dataframe td {\n",
       "        white-space: pre;\n",
       "    }\n",
       "\n",
       "    .dataframe td {\n",
       "        padding-top: 0;\n",
       "    }\n",
       "\n",
       "    .dataframe td {\n",
       "        padding-bottom: 0;\n",
       "    }\n",
       "</style>\n",
       "<table border=\"1\" class=\"dataframe\">\n",
       "<small>shape: (5, 4)</small>\n",
       "<thead>\n",
       "<tr>\n",
       "<th>\n",
       "y\n",
       "</th>\n",
       "<th>\n",
       "x\n",
       "</th>\n",
       "<th>\n",
       "f\n",
       "</th>\n",
       "<th>\n",
       "f2\n",
       "</th>\n",
       "</tr>\n",
       "<tr>\n",
       "<td>\n",
       "i16\n",
       "</td>\n",
       "<td>\n",
       "f32\n",
       "</td>\n",
       "<td>\n",
       "str\n",
       "</td>\n",
       "<td>\n",
       "i8\n",
       "</td>\n",
       "</tr>\n",
       "</thead>\n",
       "<tbody>\n",
       "<tr>\n",
       "<td>\n",
       "6\n",
       "</td>\n",
       "<td>\n",
       "8.31\n",
       "</td>\n",
       "<td>\n",
       "&quot;C&quot;\n",
       "</td>\n",
       "<td>\n",
       "0\n",
       "</td>\n",
       "</tr>\n",
       "<tr>\n",
       "<td>\n",
       "6\n",
       "</td>\n",
       "<td>\n",
       "9.44\n",
       "</td>\n",
       "<td>\n",
       "&quot;C&quot;\n",
       "</td>\n",
       "<td>\n",
       "0\n",
       "</td>\n",
       "</tr>\n",
       "<tr>\n",
       "<td>\n",
       "6\n",
       "</td>\n",
       "<td>\n",
       "9.5\n",
       "</td>\n",
       "<td>\n",
       "&quot;C&quot;\n",
       "</td>\n",
       "<td>\n",
       "0\n",
       "</td>\n",
       "</tr>\n",
       "<tr>\n",
       "<td>\n",
       "12\n",
       "</td>\n",
       "<td>\n",
       "9.07\n",
       "</td>\n",
       "<td>\n",
       "&quot;C&quot;\n",
       "</td>\n",
       "<td>\n",
       "0\n",
       "</td>\n",
       "</tr>\n",
       "<tr>\n",
       "<td>\n",
       "10\n",
       "</td>\n",
       "<td>\n",
       "10.16\n",
       "</td>\n",
       "<td>\n",
       "&quot;C&quot;\n",
       "</td>\n",
       "<td>\n",
       "0\n",
       "</td>\n",
       "</tr>\n",
       "</tbody>\n",
       "</table>\n",
       "</div>"
      ],
      "text/plain": [
       "shape: (5, 4)\n",
       "┌─────┬───────┬─────┬─────┐\n",
       "│ y   ┆ x     ┆ f   ┆ f2  │\n",
       "│ --- ┆ ---   ┆ --- ┆ --- │\n",
       "│ i16 ┆ f32   ┆ str ┆ i8  │\n",
       "╞═════╪═══════╪═════╪═════╡\n",
       "│ 6   ┆ 8.31  ┆ C   ┆ 0   │\n",
       "│ 6   ┆ 9.44  ┆ C   ┆ 0   │\n",
       "│ 6   ┆ 9.5   ┆ C   ┆ 0   │\n",
       "│ 12  ┆ 9.07  ┆ C   ┆ 0   │\n",
       "│ 10  ┆ 10.16 ┆ C   ┆ 0   │\n",
       "└─────┴───────┴─────┴─────┘"
      ]
     },
     "execution_count": 38,
     "metadata": {},
     "output_type": "execute_result"
    }
   ],
   "source": [
    "f2id = {'C': 0, 'T': 1}\n",
    "\n",
    "# メモリの節約(今回はデータ数が少ないのでする必要はないけど、good practiceとして)\n",
    "df = df.with_columns(\n",
    "  [\n",
    "    pl.col('y').cast(pl.datatypes.Int16),\n",
    "    pl.col('x').cast(pl.datatypes.Float32),\n",
    "    pl.col('f').apply(lambda x: f2id[x]).alias('f2').cast(pl.datatypes.Int8)\n",
    "  ]\n",
    ")\n",
    "df.head()"
   ]
  },
  {
   "attachments": {},
   "cell_type": "markdown",
   "metadata": {},
   "source": [
    "### 4.2 統計モデルのあてはまりの悪さ: 逸脱度"
   ]
  },
  {
   "cell_type": "code",
   "execution_count": 39,
   "metadata": {},
   "outputs": [],
   "source": [
    "import statsmodels.api as sm\n",
    "import statsmodels.formula.api as smf "
   ]
  },
  {
   "attachments": {},
   "cell_type": "markdown",
   "metadata": {},
   "source": [
    "#### xモデル"
   ]
  },
  {
   "cell_type": "code",
   "execution_count": 40,
   "metadata": {},
   "outputs": [
    {
     "name": "stdout",
     "output_type": "stream",
     "text": [
      "                 Generalized Linear Model Regression Results                  \n",
      "==============================================================================\n",
      "Dep. Variable:                      y   No. Observations:                  100\n",
      "Model:                            GLM   Df Residuals:                       98\n",
      "Model Family:                 Poisson   Df Model:                            1\n",
      "Link Function:                    Log   Scale:                          1.0000\n",
      "Method:                          IRLS   Log-Likelihood:                -235.39\n",
      "Date:                Sat, 04 Feb 2023   Deviance:                       84.993\n",
      "Time:                        12:27:29   Pearson chi2:                     83.8\n",
      "No. Iterations:                     4   Pseudo R-squ. (CS):            0.04414\n",
      "Covariance Type:            nonrobust                                         \n",
      "==============================================================================\n",
      "                 coef    std err          z      P>|z|      [0.025      0.975]\n",
      "------------------------------------------------------------------------------\n",
      "Intercept      1.2917      0.364      3.552      0.000       0.579       2.005\n",
      "x              0.0757      0.036      2.125      0.034       0.006       0.145\n",
      "==============================================================================\n"
     ]
    }
   ],
   "source": [
    "x_model = smf.glm(formula='y ~ x', data=df, family=sm.families.Poisson())\n",
    "\n",
    "# logλ(i) = β1 + β2 * x(i) \n",
    "# 当てはまりの良さ(対数尤度): -235.39\n",
    "# β1(Intercept: 切片)の最尤推定値: 1.29\n",
    "# β2(xの傾き)の最尤推定値: 0.0757\n",
    "#------------------------------\n",
    "# Deviance: 残差逸脱度: 84.993\n",
    "# 逸脱度: 最大対数尤度 * -2: -235.39 * 2\n",
    "print(x_model.fit().summary())"
   ]
  },
  {
   "attachments": {},
   "cell_type": "markdown",
   "metadata": {},
   "source": [
    "#### nullモデル"
   ]
  },
  {
   "cell_type": "code",
   "execution_count": 41,
   "metadata": {},
   "outputs": [
    {
     "name": "stdout",
     "output_type": "stream",
     "text": [
      "                 Generalized Linear Model Regression Results                  \n",
      "==============================================================================\n",
      "Dep. Variable:                      y   No. Observations:                  100\n",
      "Model:                            GLM   Df Residuals:                       99\n",
      "Model Family:                 Poisson   Df Model:                            0\n",
      "Link Function:                    Log   Scale:                          1.0000\n",
      "Method:                          IRLS   Log-Likelihood:                -237.64\n",
      "Date:                Sat, 04 Feb 2023   Deviance:                       89.507\n",
      "Time:                        12:27:29   Pearson chi2:                     87.1\n",
      "No. Iterations:                     4   Pseudo R-squ. (CS):         -1.776e-15\n",
      "Covariance Type:            nonrobust                                         \n",
      "==============================================================================\n",
      "                 coef    std err          z      P>|z|      [0.025      0.975]\n",
      "------------------------------------------------------------------------------\n",
      "Intercept      2.0580      0.036     57.586      0.000       1.988       2.128\n",
      "==============================================================================\n"
     ]
    }
   ],
   "source": [
    "null_model = smf.glm(formula='y ~ 1', data=df, family=sm.families.Poisson())\n",
    "\n",
    "# Deviance: 残差逸脱度: 89.507\n",
    "# 逸脱度: 最大対数尤度 * -2: -237.64 * 2\n",
    "# 残差逸脱度がxモデルの(84.993)より大きくなっている\n",
    "print(null_model.fit().summary())"
   ]
  },
  {
   "attachments": {},
   "cell_type": "markdown",
   "metadata": {},
   "source": [
    "### 4.3 AIC(Akaie's information criterison)\n",
    "```\n",
    "AIC = -2 x{(最大対数尤度) - (最尤推定したpらメーター数)}\n",
    "    = -2 (LogL* - K)\n",
    "    = D(逸脱度) + 2k\n",
    "```"
   ]
  },
  {
   "cell_type": "code",
   "execution_count": 42,
   "metadata": {},
   "outputs": [
    {
     "name": "stdout",
     "output_type": "stream",
     "text": [
      "                 Generalized Linear Model Regression Results                  \n",
      "==============================================================================\n",
      "Dep. Variable:                      y   No. Observations:                  100\n",
      "Model:                            GLM   Df Residuals:                       98\n",
      "Model Family:                 Poisson   Df Model:                            1\n",
      "Link Function:                    Log   Scale:                          1.0000\n",
      "Method:                          IRLS   Log-Likelihood:                -237.63\n",
      "Date:                Sat, 04 Feb 2023   Deviance:                       89.475\n",
      "Time:                        12:27:29   Pearson chi2:                     87.1\n",
      "No. Iterations:                     4   Pseudo R-squ. (CS):          0.0003192\n",
      "Covariance Type:            nonrobust                                         \n",
      "==============================================================================\n",
      "                 coef    std err          z      P>|z|      [0.025      0.975]\n",
      "------------------------------------------------------------------------------\n",
      "Intercept      2.0516      0.051     40.463      0.000       1.952       2.151\n",
      "f2             0.0128      0.071      0.179      0.858      -0.127       0.153\n",
      "==============================================================================\n"
     ]
    }
   ],
   "source": [
    "f_model = smf.glm(formula='y ~ f2', data=df, family=sm.families.Poisson())\n",
    "print(f_model.fit().summary())"
   ]
  },
  {
   "cell_type": "code",
   "execution_count": 43,
   "metadata": {},
   "outputs": [
    {
     "name": "stdout",
     "output_type": "stream",
     "text": [
      "                 Generalized Linear Model Regression Results                  \n",
      "==============================================================================\n",
      "Dep. Variable:                      y   No. Observations:                  100\n",
      "Model:                            GLM   Df Residuals:                       97\n",
      "Model Family:                 Poisson   Df Model:                            2\n",
      "Link Function:                    Log   Scale:                          1.0000\n",
      "Method:                          IRLS   Log-Likelihood:                -235.29\n",
      "Date:                Sat, 04 Feb 2023   Deviance:                       84.808\n",
      "Time:                        12:27:29   Pearson chi2:                     83.8\n",
      "No. Iterations:                     4   Pseudo R-squ. (CS):            0.04590\n",
      "Covariance Type:            nonrobust                                         \n",
      "==============================================================================\n",
      "                 coef    std err          z      P>|z|      [0.025      0.975]\n",
      "------------------------------------------------------------------------------\n",
      "Intercept      1.2631      0.370      3.417      0.001       0.539       1.988\n",
      "x              0.0801      0.037      2.162      0.031       0.007       0.153\n",
      "f2            -0.0320      0.074     -0.430      0.667      -0.178       0.114\n",
      "==============================================================================\n"
     ]
    }
   ],
   "source": [
    "xf_model = smf.glm(formula='y ~ x + f2', data=df, family=sm.families.Poisson())\n",
    "print(xf_model.fit().summary())"
   ]
  },
  {
   "attachments": {},
   "cell_type": "markdown",
   "metadata": {},
   "source": [
    "|  model  |  最大対数尤度  | パラメータ数|\n",
    "| ---- | ---- | --- |\n",
    "|  null model  | -237.64  | 1 |\n",
    "|  x model | -235.39  | 2 |\n",
    "|  f model  | -237.63  | 2|\n",
    "|  x f model  | -235.29 | 3 |"
   ]
  },
  {
   "cell_type": "code",
   "execution_count": 44,
   "metadata": {},
   "outputs": [
    {
     "name": "stdout",
     "output_type": "stream",
     "text": [
      "null model:  477.28\n",
      "x model:  474.78\n",
      "f model:  479.26\n",
      "x f model:  476.58\n"
     ]
    }
   ],
   "source": [
    "# AIC\n",
    "print('null model: ', -237.64 * -2 + 2 * 1)\n",
    "print('x model: ', -235.39 * -2 + 2 * 2)\n",
    "print('f model: ', -237.63 * -2 + 2 * 2)\n",
    "print('x f model: ', -235.29 * -2 + 2 * 3)"
   ]
  },
  {
   "cell_type": "code",
   "execution_count": 45,
   "metadata": {},
   "outputs": [
    {
     "name": "stdout",
     "output_type": "stream",
     "text": [
      "null model:  477.2864426185736\n",
      "x model:  474.77250257855667\n",
      "f model:  479.25451392137376\n",
      "x f model:  476.5874395411329\n"
     ]
    }
   ],
   "source": [
    "# AICメソッドは用意されている\n",
    "print('null model: ', null_model.fit().aic)\n",
    "print('x model: ', x_model.fit().aic)\n",
    "print('f model: ', f_model.fit().aic)\n",
    "print('x f model: ', xf_model.fit().aic)\n"
   ]
  },
  {
   "attachments": {},
   "cell_type": "markdown",
   "metadata": {},
   "source": [
    "### 4.5 なぜAICでモデル選択して良いか？"
   ]
  },
  {
   "cell_type": "code",
   "execution_count": 46,
   "metadata": {},
   "outputs": [
    {
     "data": {
      "text/html": [
       "<div>\n",
       "<style scoped>\n",
       "    .dataframe tbody tr th:only-of-type {\n",
       "        vertical-align: middle;\n",
       "    }\n",
       "\n",
       "    .dataframe tbody tr th {\n",
       "        vertical-align: top;\n",
       "    }\n",
       "\n",
       "    .dataframe thead th {\n",
       "        text-align: right;\n",
       "    }\n",
       "\n",
       "    .dataframe td {\n",
       "        white-space: pre;\n",
       "    }\n",
       "\n",
       "    .dataframe td {\n",
       "        padding-top: 0;\n",
       "    }\n",
       "\n",
       "    .dataframe td {\n",
       "        padding-bottom: 0;\n",
       "    }\n",
       "</style>\n",
       "<table border=\"1\" class=\"dataframe\">\n",
       "<small>shape: (7, 2)</small>\n",
       "<thead>\n",
       "<tr>\n",
       "<th>\n",
       "describe\n",
       "</th>\n",
       "<th>\n",
       "y\n",
       "</th>\n",
       "</tr>\n",
       "<tr>\n",
       "<td>\n",
       "str\n",
       "</td>\n",
       "<td>\n",
       "f64\n",
       "</td>\n",
       "</tr>\n",
       "</thead>\n",
       "<tbody>\n",
       "<tr>\n",
       "<td>\n",
       "&quot;count&quot;\n",
       "</td>\n",
       "<td>\n",
       "50.0\n",
       "</td>\n",
       "</tr>\n",
       "<tr>\n",
       "<td>\n",
       "&quot;null_count&quot;\n",
       "</td>\n",
       "<td>\n",
       "0.0\n",
       "</td>\n",
       "</tr>\n",
       "<tr>\n",
       "<td>\n",
       "&quot;mean&quot;\n",
       "</td>\n",
       "<td>\n",
       "8.54\n",
       "</td>\n",
       "</tr>\n",
       "<tr>\n",
       "<td>\n",
       "&quot;std&quot;\n",
       "</td>\n",
       "<td>\n",
       "3.586881\n",
       "</td>\n",
       "</tr>\n",
       "<tr>\n",
       "<td>\n",
       "&quot;min&quot;\n",
       "</td>\n",
       "<td>\n",
       "2.0\n",
       "</td>\n",
       "</tr>\n",
       "<tr>\n",
       "<td>\n",
       "&quot;max&quot;\n",
       "</td>\n",
       "<td>\n",
       "21.0\n",
       "</td>\n",
       "</tr>\n",
       "<tr>\n",
       "<td>\n",
       "&quot;median&quot;\n",
       "</td>\n",
       "<td>\n",
       "8.0\n",
       "</td>\n",
       "</tr>\n",
       "</tbody>\n",
       "</table>\n",
       "</div>"
      ],
      "text/plain": [
       "shape: (7, 2)\n",
       "┌────────────┬──────────┐\n",
       "│ describe   ┆ y        │\n",
       "│ ---        ┆ ---      │\n",
       "│ str        ┆ f64      │\n",
       "╞════════════╪══════════╡\n",
       "│ count      ┆ 50.0     │\n",
       "│ null_count ┆ 0.0      │\n",
       "│ mean       ┆ 8.54     │\n",
       "│ std        ┆ 3.586881 │\n",
       "│ min        ┆ 2.0      │\n",
       "│ max        ┆ 21.0     │\n",
       "│ median     ┆ 8.0      │\n",
       "└────────────┴──────────┘"
      ]
     },
     "execution_count": 46,
     "metadata": {},
     "output_type": "execute_result"
    }
   ],
   "source": [
    "# 「真の値」をポアソン分布で作成する\n",
    "l = 8 \n",
    "y = np.random.poisson(l, 50)\n",
    "data = pl.DataFrame(y, columns=['y'])\n",
    "data.describe()"
   ]
  },
  {
   "cell_type": "code",
   "execution_count": 47,
   "metadata": {},
   "outputs": [
    {
     "name": "stdout",
     "output_type": "stream",
     "text": [
      "                 Generalized Linear Model Regression Results                  \n",
      "==============================================================================\n",
      "Dep. Variable:                      y   No. Observations:                   50\n",
      "Model:                            GLM   Df Residuals:                       49\n",
      "Model Family:                 Poisson   Df Model:                            0\n",
      "Link Function:                    Log   Scale:                          1.0000\n",
      "Method:                          IRLS   Log-Likelihood:                -133.09\n",
      "Date:                Sat, 04 Feb 2023   Deviance:                       70.190\n",
      "Time:                        12:27:30   Pearson chi2:                     73.8\n",
      "No. Iterations:                     4   Pseudo R-squ. (CS):          2.220e-15\n",
      "Covariance Type:            nonrobust                                         \n",
      "==============================================================================\n",
      "                 coef    std err          z      P>|z|      [0.025      0.975]\n",
      "------------------------------------------------------------------------------\n",
      "Intercept      2.1448      0.048     44.319      0.000       2.050       2.240\n",
      "==============================================================================\n",
      "8.54\n",
      "-133.0912782591816\n"
     ]
    }
   ],
   "source": [
    "# 最尤推定でパラメータを決定: 推測\n",
    "null_model = smf.glm(formula='y ~ 1', data=data, family=sm.families.Poisson())\n",
    "result = null_model.fit()\n",
    "print(result.summary())\n",
    "print(np.exp(result.params[0])) # リンク関数に対数を利用しているので\n",
    "print(result.llf)"
   ]
  },
  {
   "cell_type": "code",
   "execution_count": 48,
   "metadata": {},
   "outputs": [
    {
     "name": "stdout",
     "output_type": "stream",
     "text": [
      "E(log L): -123.80753474542347\n"
     ]
    }
   ],
   "source": [
    "import pandas as pd\n",
    "import math\n",
    "\n",
    "# 真のモデルから200セットのデータを生成\n",
    "data_random_200 = [pd.DataFrame(np.random.poisson(8, len(data)), columns=['y']) for i in range(200)]\n",
    "\n",
    "# 200セットのデータに対して、推測したモデルの切片を利用して200個の対数尤度を計算\n",
    "lls = []\n",
    "for d in data_random_200:\n",
    "    lls.append(sum(poisson.logpmf(d, math.exp(result.params['Intercept']))))\n",
    "    \n",
    "# 平均対数尤度を計算\n",
    "elogl = np.sum(lls) / len(lls)\n",
    "print('E(log L):', elogl)"
   ]
  },
  {
   "cell_type": "code",
   "execution_count": 49,
   "metadata": {},
   "outputs": [],
   "source": [
    "# 1セットの最大対数尤度と200セットの平均対数尤度を200回ずつ計測する\n",
    "# どれくらい対数尤度にぶれがあるのか？\n",
    "logls = []\n",
    "elogls = []\n",
    "\n",
    "for i in range(200):\n",
    "    data_random = pd.DataFrame(np.random.poisson(8, 50), columns=['y'])\n",
    "    \n",
    "    results = smf.poisson('y ~ 1', data=data_random).fit(disp=0)\n",
    "    logls.append(results.llf)\n",
    "    \n",
    "    data_random_200 = [pd.DataFrame(np.random.poisson(8, len(data_random)), columns=['y']) for i in range(200)]\n",
    "    \n",
    "    lls = []\n",
    "    for d in data_random_200:\n",
    "        lls.append(sum(poisson.logpmf(d, math.exp(results.params['Intercept']))))\n",
    "    elogls.append(np.sum(lls) / len(lls))"
   ]
  },
  {
   "cell_type": "code",
   "execution_count": 50,
   "metadata": {},
   "outputs": [
    {
     "data": {
      "image/png": "[encoded data removed]",
      "text/plain": [
       "<Figure size 432x288 with 1 Axes>"
      ]
     },
     "metadata": {
      "needs_background": "light"
     },
     "output_type": "display_data"
    }
   ],
   "source": [
    "# 最大対数尤度(赤○)と平均対数尤度(青▲)を散布図でプロット\n",
    "x = np.arange(200)\n",
    "plt.scatter(x, logls, color='red', marker='o', label='Log L*')\n",
    "plt.scatter(x, elogls, color='blue', marker='^', label='E(Log L)')\n",
    "plt.legend(loc='best')\n",
    "plt.show()"
   ]
  },
  {
   "cell_type": "code",
   "execution_count": 51,
   "metadata": {},
   "outputs": [
    {
     "name": "stdout",
     "output_type": "stream",
     "text": [
      "Bias: 0.8640437961096978\n"
     ]
    }
   ],
   "source": [
    "# 最大対数尤度と平均対数尤度の標本平均の差(=バイアス)を計算\n",
    "# バイアス: 推定用データのあてまりの良さである「最大対数尤度」 - 予測の良さを表す「平均対数尤度」\n",
    "# => AICはバイアスの値を考慮されているこということになる\n",
    "b = np.average(logls) - np.average(elogls)\n",
    "print('Bias:', b)"
   ]
  },
  {
   "attachments": {},
   "cell_type": "markdown",
   "metadata": {},
   "source": [
    "### 4.5.3 ネスとしているGLM間のAIC比較"
   ]
  },
  {
   "cell_type": "code",
   "execution_count": 52,
   "metadata": {},
   "outputs": [],
   "source": [
    "# 200セットのデータに対して一定モデルとxモデルで、最大対数尤度と平均対数尤度を計算\n",
    "logls = []\n",
    "elogls = []\n",
    "xlogls = []\n",
    "xelogls = []\n",
    "\n",
    "for i in range(200):\n",
    "    # 説明変数と目的変数が無関係の観測データ1セットを作る\n",
    "    data_random = pd.concat(\n",
    "        [pd.DataFrame(np.random.poisson(8, 50), columns=['y']), pd.DataFrame(np.random.rand(50)*9+1, columns=['x'])], \n",
    "        axis=1)\n",
    "    \n",
    "    # 一定モデルによる最尤推定\n",
    "    results = smf.poisson('y ~ 1', data=data_random).fit(disp=0)\n",
    "    logls.append(results.llf)\n",
    "    \n",
    "    # xモデルによる最尤推定\n",
    "    xresults = smf.poisson('y ~ x', data=data_random).fit(disp=0)\n",
    "    xlogls.append(xresults.llf)\n",
    "    \n",
    "    # 真のモデルから新たなデータ200セットを作る\n",
    "    data_random_200 = [pd.concat(\n",
    "        [pd.DataFrame(np.random.poisson(8, 50), columns=['y']), pd.DataFrame(np.random.rand(50)*9+1, columns=['x'])], \n",
    "        axis=1) for i in range(200)]    \n",
    "\n",
    "    # 200セットの対数尤度を計算\n",
    "    lls = []\n",
    "    xlls= []\n",
    "    for d in data_random_200:\n",
    "        lls.append(sum(poisson.logpmf(d['y'], math.exp(results.params['Intercept']))))\n",
    "        xlls.append(sum(poisson.logpmf(d['y'], np.exp(xresults.params['Intercept'] + d['x'] * xresults.params['x']))))\n",
    "        \n",
    "    # 平均対数尤度を計算\n",
    "    elogls.append(np.average(lls))\n",
    "    xelogls.append(np.average(xlls))"
   ]
  },
  {
   "cell_type": "code",
   "execution_count": 53,
   "metadata": {},
   "outputs": [
    {
     "data": {
      "image/png": "[encoded data removed]",
      "text/plain": [
       "<Figure size 432x288 with 1 Axes>"
      ]
     },
     "metadata": {
      "needs_background": "light"
     },
     "output_type": "display_data"
    },
    {
     "name": "stdout",
     "output_type": "stream",
     "text": [
      "0.5071740360680429\n"
     ]
    }
   ],
   "source": [
    "# 最大対数尤度の差\n",
    "logls_diff = np.subtract(xlogls, logls)\n",
    "\n",
    "plt.hist(logls_diff, bins=10)\n",
    "plt.show()\n",
    "\n",
    "# 最大対数尤度の差の平均\n",
    "print(np.average(logls_diff))"
   ]
  },
  {
   "cell_type": "code",
   "execution_count": 54,
   "metadata": {},
   "outputs": [
    {
     "data": {
      "image/png": "[encoded data removed]",
      "text/plain": [
       "<Figure size 432x288 with 1 Axes>"
      ]
     },
     "metadata": {
      "needs_background": "light"
     },
     "output_type": "display_data"
    },
    {
     "name": "stdout",
     "output_type": "stream",
     "text": [
      "-0.5451770373835729\n"
     ]
    }
   ],
   "source": [
    "# 平均対数尤度の差\n",
    "elogls_diff = np.subtract(xelogls, elogls)\n",
    "\n",
    "plt.hist(elogls_diff, bins=10)\n",
    "plt.show()\n",
    "\n",
    "# 平均対数尤度の差の平均\n",
    "print(np.average(elogls_diff))"
   ]
  },
  {
   "cell_type": "code",
   "execution_count": 55,
   "metadata": {},
   "outputs": [
    {
     "data": {
      "image/png": "[encoded data removed]",
      "text/plain": [
       "<Figure size 432x288 with 1 Axes>"
      ]
     },
     "metadata": {
      "needs_background": "light"
     },
     "output_type": "display_data"
    },
    {
     "name": "stdout",
     "output_type": "stream",
     "text": [
      "1.0523510734516157\n"
     ]
    }
   ],
   "source": [
    "# バイアスの差\n",
    "b_diff = logls_diff - elogls_diff\n",
    "\n",
    "plt.hist(b_diff, bins=20)\n",
    "plt.show()\n",
    "\n",
    "# バイアスの差の平均\n",
    "print(np.average(b_diff))"
   ]
  },
  {
   "cell_type": "code",
   "execution_count": 56,
   "metadata": {},
   "outputs": [
    {
     "name": "stdout",
     "output_type": "stream",
     "text": [
      "238.59194709527614\n"
     ]
    }
   ],
   "source": [
    "# 一定モデルのAIC\n",
    "aic = -2 * logls[0] + 2\n",
    "print(aic)"
   ]
  },
  {
   "cell_type": "code",
   "execution_count": 57,
   "metadata": {},
   "outputs": [
    {
     "name": "stdout",
     "output_type": "stream",
     "text": [
      "239.6912769737122\n"
     ]
    }
   ],
   "source": [
    "# xモデルのAIC\n",
    "aic = -2 * xlogls[0] + 4\n",
    "print(aic)"
   ]
  }
 ],
 "metadata": {
  "kernelspec": {
   "display_name": "Python 3",
   "language": "python",
   "name": "python3"
  },
  "language_info": {
   "codemirror_mode": {
    "name": "ipython",
    "version": 3
   },
   "file_extension": ".py",
   "mimetype": "text/x-python",
   "name": "python",
   "nbconvert_exporter": "python",
   "pygments_lexer": "ipython3",
   "version": "3.8.10"
  },
  "orig_nbformat": 4,
  "vscode": {
   "interpreter": {
    "hash": "31f2aee4e71d21fbe5cf8b01ff0e069b9275f58929596ceb00d14d90e3e16cd6"
   }
  }
 },
 "nbformat": 4,
 "nbformat_minor": 2
}
