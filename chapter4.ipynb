{
 "cells": [
  {
   "attachments": {},
   "cell_type": "markdown",
   "metadata": {},
   "source": [
    "## 4. GLMのモデル選択"
   ]
  },
  {
   "cell_type": "code",
   "execution_count": 1,
   "metadata": {},
   "outputs": [
    {
     "name": "stderr",
     "output_type": "stream",
     "text": [
      "/home/yoshino/.local/lib/python3.8/site-packages/scipy/__init__.py:146: UserWarning: A NumPy version >=1.16.5 and <1.23.0 is required for this version of SciPy (detected version 1.24.1\n",
      "  warnings.warn(f\"A NumPy version >={np_minversion} and <{np_maxversion}\"\n"
     ]
    }
   ],
   "source": [
    "import numpy as np\n",
    "from scipy.stats import poisson\n",
    "import matplotlib.pyplot as plt\n",
    "import polars as pl"
   ]
  },
  {
   "cell_type": "code",
   "execution_count": 2,
   "metadata": {},
   "outputs": [
    {
     "data": {
      "text/html": [
       "<div>\n",
       "<style scoped>\n",
       "    .dataframe tbody tr th:only-of-type {\n",
       "        vertical-align: middle;\n",
       "    }\n",
       "\n",
       "    .dataframe tbody tr th {\n",
       "        vertical-align: top;\n",
       "    }\n",
       "\n",
       "    .dataframe thead th {\n",
       "        text-align: right;\n",
       "    }\n",
       "\n",
       "    .dataframe td {\n",
       "        white-space: pre;\n",
       "    }\n",
       "\n",
       "    .dataframe td {\n",
       "        padding-top: 0;\n",
       "    }\n",
       "\n",
       "    .dataframe td {\n",
       "        padding-bottom: 0;\n",
       "    }\n",
       "</style>\n",
       "<table border=\"1\" class=\"dataframe\">\n",
       "<small>shape: (5, 4)</small>\n",
       "<thead>\n",
       "<tr>\n",
       "<th>\n",
       "y\n",
       "</th>\n",
       "<th>\n",
       "x\n",
       "</th>\n",
       "<th>\n",
       "f\n",
       "</th>\n",
       "<th>\n",
       "f2\n",
       "</th>\n",
       "</tr>\n",
       "<tr>\n",
       "<td>\n",
       "i16\n",
       "</td>\n",
       "<td>\n",
       "f32\n",
       "</td>\n",
       "<td>\n",
       "str\n",
       "</td>\n",
       "<td>\n",
       "i8\n",
       "</td>\n",
       "</tr>\n",
       "</thead>\n",
       "<tbody>\n",
       "<tr>\n",
       "<td>\n",
       "6\n",
       "</td>\n",
       "<td>\n",
       "8.31\n",
       "</td>\n",
       "<td>\n",
       "&quot;C&quot;\n",
       "</td>\n",
       "<td>\n",
       "0\n",
       "</td>\n",
       "</tr>\n",
       "<tr>\n",
       "<td>\n",
       "6\n",
       "</td>\n",
       "<td>\n",
       "9.44\n",
       "</td>\n",
       "<td>\n",
       "&quot;C&quot;\n",
       "</td>\n",
       "<td>\n",
       "0\n",
       "</td>\n",
       "</tr>\n",
       "<tr>\n",
       "<td>\n",
       "6\n",
       "</td>\n",
       "<td>\n",
       "9.5\n",
       "</td>\n",
       "<td>\n",
       "&quot;C&quot;\n",
       "</td>\n",
       "<td>\n",
       "0\n",
       "</td>\n",
       "</tr>\n",
       "<tr>\n",
       "<td>\n",
       "12\n",
       "</td>\n",
       "<td>\n",
       "9.07\n",
       "</td>\n",
       "<td>\n",
       "&quot;C&quot;\n",
       "</td>\n",
       "<td>\n",
       "0\n",
       "</td>\n",
       "</tr>\n",
       "<tr>\n",
       "<td>\n",
       "10\n",
       "</td>\n",
       "<td>\n",
       "10.16\n",
       "</td>\n",
       "<td>\n",
       "&quot;C&quot;\n",
       "</td>\n",
       "<td>\n",
       "0\n",
       "</td>\n",
       "</tr>\n",
       "</tbody>\n",
       "</table>\n",
       "</div>"
      ],
      "text/plain": [
       "shape: (5, 4)\n",
       "┌─────┬───────┬─────┬─────┐\n",
       "│ y   ┆ x     ┆ f   ┆ f2  │\n",
       "│ --- ┆ ---   ┆ --- ┆ --- │\n",
       "│ i16 ┆ f32   ┆ str ┆ i8  │\n",
       "╞═════╪═══════╪═════╪═════╡\n",
       "│ 6   ┆ 8.31  ┆ C   ┆ 0   │\n",
       "│ 6   ┆ 9.44  ┆ C   ┆ 0   │\n",
       "│ 6   ┆ 9.5   ┆ C   ┆ 0   │\n",
       "│ 12  ┆ 9.07  ┆ C   ┆ 0   │\n",
       "│ 10  ┆ 10.16 ┆ C   ┆ 0   │\n",
       "└─────┴───────┴─────┴─────┘"
      ]
     },
     "execution_count": 2,
     "metadata": {},
     "output_type": "execute_result"
    }
   ],
   "source": [
    "df = pl.read_csv('./data/chapter3/data3a.csv')\n",
    "f2id = {'C': 0, 'T': 1}\n",
    "\n",
    "# メモリの節約(今回はデータ数が少ないのでする必要はないけど、good practiceとして)\n",
    "df = df.with_columns(\n",
    "  [\n",
    "    pl.col('y').cast(pl.datatypes.Int16),\n",
    "    pl.col('x').cast(pl.datatypes.Float32),\n",
    "    pl.col('f').apply(lambda x: f2id[x]).alias('f2').cast(pl.datatypes.Int8)\n",
    "  ]\n",
    ")\n",
    "df.head()"
   ]
  },
  {
   "attachments": {},
   "cell_type": "markdown",
   "metadata": {},
   "source": [
    "## 4.2 統計モデルのあてはまりの悪さ: 逸脱度"
   ]
  },
  {
   "cell_type": "code",
   "execution_count": 3,
   "metadata": {},
   "outputs": [],
   "source": [
    "import statsmodels.api as sm\n",
    "import statsmodels.formula.api as smf "
   ]
  },
  {
   "attachments": {},
   "cell_type": "markdown",
   "metadata": {},
   "source": [
    "### xモデル"
   ]
  },
  {
   "cell_type": "code",
   "execution_count": 4,
   "metadata": {},
   "outputs": [
    {
     "name": "stdout",
     "output_type": "stream",
     "text": [
      "                 Generalized Linear Model Regression Results                  \n",
      "==============================================================================\n",
      "Dep. Variable:                      y   No. Observations:                  100\n",
      "Model:                            GLM   Df Residuals:                       98\n",
      "Model Family:                 Poisson   Df Model:                            1\n",
      "Link Function:                    Log   Scale:                          1.0000\n",
      "Method:                          IRLS   Log-Likelihood:                -235.39\n",
      "Date:                Mon, 16 Jan 2023   Deviance:                       84.993\n",
      "Time:                        22:26:26   Pearson chi2:                     83.8\n",
      "No. Iterations:                     4   Pseudo R-squ. (CS):            0.04414\n",
      "Covariance Type:            nonrobust                                         \n",
      "==============================================================================\n",
      "                 coef    std err          z      P>|z|      [0.025      0.975]\n",
      "------------------------------------------------------------------------------\n",
      "Intercept      1.2917      0.364      3.552      0.000       0.579       2.005\n",
      "x              0.0757      0.036      2.125      0.034       0.006       0.145\n",
      "==============================================================================\n"
     ]
    }
   ],
   "source": [
    "x_model = smf.glm(formula='y ~ x', data=df, family=sm.families.Poisson())\n",
    "\n",
    "# logλ(i) = β1 + β2 * x(i) \n",
    "# 当てはまりの良さ(対数尤度): -235.39\n",
    "# β1(Intercept: 切片)の最尤推定値: 1.29\n",
    "# β2(xの傾き)の最尤推定値: 0.0757\n",
    "#------------------------------\n",
    "# Deviance: 残差逸脱度: 84.993\n",
    "# 逸脱度: 最大対数尤度 * -2: -235.39 * 2\n",
    "print(x_model.fit().summary())"
   ]
  },
  {
   "attachments": {},
   "cell_type": "markdown",
   "metadata": {},
   "source": [
    "### nullモデル"
   ]
  },
  {
   "cell_type": "code",
   "execution_count": 5,
   "metadata": {},
   "outputs": [
    {
     "name": "stdout",
     "output_type": "stream",
     "text": [
      "                 Generalized Linear Model Regression Results                  \n",
      "==============================================================================\n",
      "Dep. Variable:                      y   No. Observations:                  100\n",
      "Model:                            GLM   Df Residuals:                       99\n",
      "Model Family:                 Poisson   Df Model:                            0\n",
      "Link Function:                    Log   Scale:                          1.0000\n",
      "Method:                          IRLS   Log-Likelihood:                -237.64\n",
      "Date:                Mon, 16 Jan 2023   Deviance:                       89.507\n",
      "Time:                        22:26:26   Pearson chi2:                     87.1\n",
      "No. Iterations:                     4   Pseudo R-squ. (CS):         -1.776e-15\n",
      "Covariance Type:            nonrobust                                         \n",
      "==============================================================================\n",
      "                 coef    std err          z      P>|z|      [0.025      0.975]\n",
      "------------------------------------------------------------------------------\n",
      "Intercept      2.0580      0.036     57.586      0.000       1.988       2.128\n",
      "==============================================================================\n"
     ]
    }
   ],
   "source": [
    "null_model = smf.glm(formula='y ~ 1', data=df, family=sm.families.Poisson())\n",
    "\n",
    "# Deviance: 残差逸脱度: 89.507\n",
    "# 逸脱度: 最大対数尤度 * -2: -237.64 * 2\n",
    "# 残差逸脱度がxモデルの(84.993)より大きくなっている\n",
    "print(null_model.fit().summary())"
   ]
  },
  {
   "attachments": {},
   "cell_type": "markdown",
   "metadata": {},
   "source": [
    "## 4.3 AIC(Akaie's information criterison)\n",
    "```\n",
    "AIC = -2 x{(最大対数尤度) - (最尤推定したpらメーター数)}\n",
    "    = -2 (LogL* - K)\n",
    "    = D(逸脱度) + 2k\n",
    "```"
   ]
  },
  {
   "cell_type": "code",
   "execution_count": 6,
   "metadata": {},
   "outputs": [
    {
     "name": "stdout",
     "output_type": "stream",
     "text": [
      "                 Generalized Linear Model Regression Results                  \n",
      "==============================================================================\n",
      "Dep. Variable:                      y   No. Observations:                  100\n",
      "Model:                            GLM   Df Residuals:                       98\n",
      "Model Family:                 Poisson   Df Model:                            1\n",
      "Link Function:                    Log   Scale:                          1.0000\n",
      "Method:                          IRLS   Log-Likelihood:                -237.63\n",
      "Date:                Mon, 16 Jan 2023   Deviance:                       89.475\n",
      "Time:                        22:26:26   Pearson chi2:                     87.1\n",
      "No. Iterations:                     4   Pseudo R-squ. (CS):          0.0003192\n",
      "Covariance Type:            nonrobust                                         \n",
      "==============================================================================\n",
      "                 coef    std err          z      P>|z|      [0.025      0.975]\n",
      "------------------------------------------------------------------------------\n",
      "Intercept      2.0516      0.051     40.463      0.000       1.952       2.151\n",
      "f2             0.0128      0.071      0.179      0.858      -0.127       0.153\n",
      "==============================================================================\n"
     ]
    }
   ],
   "source": [
    "f_model = smf.glm(formula='y ~ f2', data=df, family=sm.families.Poisson())\n",
    "print(f_model.fit().summary())"
   ]
  },
  {
   "cell_type": "code",
   "execution_count": 7,
   "metadata": {},
   "outputs": [
    {
     "name": "stdout",
     "output_type": "stream",
     "text": [
      "                 Generalized Linear Model Regression Results                  \n",
      "==============================================================================\n",
      "Dep. Variable:                      y   No. Observations:                  100\n",
      "Model:                            GLM   Df Residuals:                       97\n",
      "Model Family:                 Poisson   Df Model:                            2\n",
      "Link Function:                    Log   Scale:                          1.0000\n",
      "Method:                          IRLS   Log-Likelihood:                -235.29\n",
      "Date:                Mon, 16 Jan 2023   Deviance:                       84.808\n",
      "Time:                        22:26:26   Pearson chi2:                     83.8\n",
      "No. Iterations:                     4   Pseudo R-squ. (CS):            0.04590\n",
      "Covariance Type:            nonrobust                                         \n",
      "==============================================================================\n",
      "                 coef    std err          z      P>|z|      [0.025      0.975]\n",
      "------------------------------------------------------------------------------\n",
      "Intercept      1.2631      0.370      3.417      0.001       0.539       1.988\n",
      "x              0.0801      0.037      2.162      0.031       0.007       0.153\n",
      "f2            -0.0320      0.074     -0.430      0.667      -0.178       0.114\n",
      "==============================================================================\n"
     ]
    }
   ],
   "source": [
    "xf_model = smf.glm(formula='y ~ x + f2', data=df, family=sm.families.Poisson())\n",
    "print(xf_model.fit().summary())"
   ]
  },
  {
   "attachments": {},
   "cell_type": "markdown",
   "metadata": {},
   "source": [
    "|  model  |  最大対数尤度  | パラメータ数|\n",
    "| ---- | ---- | --- |\n",
    "|  null model  | -237.64  | 1 |\n",
    "|  x model | -235.39  | 2 |\n",
    "|  f model  | -237.63  | 2|\n",
    "|  x f model  | -235.29 | 3 |"
   ]
  },
  {
   "cell_type": "code",
   "execution_count": 23,
   "metadata": {},
   "outputs": [
    {
     "name": "stdout",
     "output_type": "stream",
     "text": [
      "null model:  477.28\n",
      "x model:  474.78\n",
      "f model:  479.26\n",
      "x f model:  476.58\n"
     ]
    }
   ],
   "source": [
    "# AIC\n",
    "print('null model: ', -237.64 * -2 + 2 * 1)\n",
    "print('x model: ', -235.39 * -2 + 2 * 2)\n",
    "print('f model: ', -237.63 * -2 + 2 * 2)\n",
    "print('x f model: ', -235.29 * -2 + 2 * 3)"
   ]
  },
  {
   "cell_type": "code",
   "execution_count": 24,
   "metadata": {},
   "outputs": [
    {
     "name": "stdout",
     "output_type": "stream",
     "text": [
      "null model:  165.63438084512273\n",
      "x model:  474.7725025785566\n",
      "f model:  479.25451392137376\n",
      "x f model:  476.5874395411329\n"
     ]
    }
   ],
   "source": [
    "# AICメソッドは用意されている\n",
    "print('null model: ', null_model.fit().aic)\n",
    "print('x model: ', x_model.fit().aic)\n",
    "print('f model: ', f_model.fit().aic)\n",
    "print('x f model: ', xf_model.fit().aic)\n"
   ]
  },
  {
   "attachments": {},
   "cell_type": "markdown",
   "metadata": {},
   "source": [
    "## 4.5 なぜAICでモデル選択して良いか？"
   ]
  },
  {
   "cell_type": "code",
   "execution_count": 28,
   "metadata": {},
   "outputs": [
    {
     "data": {
      "text/html": [
       "<div>\n",
       "<style scoped>\n",
       "    .dataframe tbody tr th:only-of-type {\n",
       "        vertical-align: middle;\n",
       "    }\n",
       "\n",
       "    .dataframe tbody tr th {\n",
       "        vertical-align: top;\n",
       "    }\n",
       "\n",
       "    .dataframe thead th {\n",
       "        text-align: right;\n",
       "    }\n",
       "\n",
       "    .dataframe td {\n",
       "        white-space: pre;\n",
       "    }\n",
       "\n",
       "    .dataframe td {\n",
       "        padding-top: 0;\n",
       "    }\n",
       "\n",
       "    .dataframe td {\n",
       "        padding-bottom: 0;\n",
       "    }\n",
       "</style>\n",
       "<table border=\"1\" class=\"dataframe\">\n",
       "<small>shape: (5, 1)</small>\n",
       "<thead>\n",
       "<tr>\n",
       "<th>\n",
       "y\n",
       "</th>\n",
       "</tr>\n",
       "<tr>\n",
       "<td>\n",
       "i64\n",
       "</td>\n",
       "</tr>\n",
       "</thead>\n",
       "<tbody>\n",
       "<tr>\n",
       "<td>\n",
       "9\n",
       "</td>\n",
       "</tr>\n",
       "<tr>\n",
       "<td>\n",
       "8\n",
       "</td>\n",
       "</tr>\n",
       "<tr>\n",
       "<td>\n",
       "7\n",
       "</td>\n",
       "</tr>\n",
       "<tr>\n",
       "<td>\n",
       "8\n",
       "</td>\n",
       "</tr>\n",
       "<tr>\n",
       "<td>\n",
       "6\n",
       "</td>\n",
       "</tr>\n",
       "</tbody>\n",
       "</table>\n",
       "</div>"
      ],
      "text/plain": [
       "shape: (5, 1)\n",
       "┌─────┐\n",
       "│ y   │\n",
       "│ --- │\n",
       "│ i64 │\n",
       "╞═════╡\n",
       "│ 9   │\n",
       "│ 8   │\n",
       "│ 7   │\n",
       "│ 8   │\n",
       "│ 6   │\n",
       "└─────┘"
      ]
     },
     "execution_count": 28,
     "metadata": {},
     "output_type": "execute_result"
    }
   ],
   "source": [
    "l = 8 # 真の値\n",
    "y = np.random.poisson(l, 50)\n",
    "data = pl.DataFrame(y, columns=['y'])\n",
    "data.head()"
   ]
  },
  {
   "cell_type": "code",
   "execution_count": 29,
   "metadata": {},
   "outputs": [
    {
     "name": "stdout",
     "output_type": "stream",
     "text": [
      "                 Generalized Linear Model Regression Results                  \n",
      "==============================================================================\n",
      "Dep. Variable:                      y   No. Observations:                   50\n",
      "Model:                            GLM   Df Residuals:                       49\n",
      "Model Family:                 Poisson   Df Model:                            0\n",
      "Link Function:                    Log   Scale:                          1.0000\n",
      "Method:                          IRLS   Log-Likelihood:                -121.63\n",
      "Date:                Mon, 16 Jan 2023   Deviance:                       50.133\n",
      "Time:                        22:42:07   Pearson chi2:                     46.0\n",
      "No. Iterations:                     4   Pseudo R-squ. (CS):              0.000\n",
      "Covariance Type:            nonrobust                                         \n",
      "==============================================================================\n",
      "                 coef    std err          z      P>|z|      [0.025      0.975]\n",
      "------------------------------------------------------------------------------\n",
      "Intercept      2.0744      0.050     41.385      0.000       1.976       2.173\n",
      "==============================================================================\n",
      "7.959999999999997\n",
      "-121.6317189580827\n"
     ]
    }
   ],
   "source": [
    "null_model = smf.glm(formula='y ~ 1', data=data, family=sm.families.Poisson())\n",
    "result = null_model.fit()\n",
    "print(result.summary())\n",
    "print(np.exp(result.params[0])) # リンク関数に対数を利用しているので\n",
    "print(result.llf)"
   ]
  },
  {
   "cell_type": "code",
   "execution_count": 53,
   "metadata": {},
   "outputs": [],
   "source": [
    "def log_likelihood():\n",
    "  l = 8 # 真の値\n",
    "  y = np.random.poisson(l, 50)\n",
    "  data = pl.DataFrame(y, columns=['y'])\n",
    "  model = smf.glm(formula='y ~ 1', data=data, family=sm.families.Poisson())\n",
    "  res = model.fit()\n",
    "  return res.llf\n",
    "\n",
    "llfs = []\n",
    "results = []\n",
    "for i in range(0, 500):\n",
    "  llfs.append(log_likelihood())\n",
    "\n",
    "  for j in range(1, 200):\n",
    "    results.append(log_likelihood())\n",
    "  avg_llf = np.mean(results)"
   ]
  },
  {
   "cell_type": "code",
   "execution_count": 54,
   "metadata": {},
   "outputs": [
    {
     "name": "stdout",
     "output_type": "stream",
     "text": [
      "[ 2.38183783e+00 -3.16519121e+00 -1.94997591e+00  9.12600821e+00\n",
      " -2.39214741e+00 -7.05343861e-01 -1.51269089e-01  6.24606770e+00\n",
      " -2.40835235e+00  1.36409436e+00  4.82350472e-01  2.44192877e+00\n",
      " -6.79577557e-01 -2.57047235e-01 -1.37031606e+01 -5.93927039e+00\n",
      "  3.18800791e+00  9.93339195e-01  1.34399783e+01  2.31463945e+00\n",
      "  1.08299025e+01  1.11602146e+00  8.62732810e-01 -5.67055094e+00\n",
      "  6.08810117e-01  3.89479858e+00  2.89309766e+00  2.05033540e+00\n",
      "  7.93528481e+00 -1.83925263e+00  1.86289724e+00 -6.54080700e+00\n",
      "  6.19467310e+00  1.07484512e+00 -7.24126295e+00 -1.22231023e+01\n",
      "  5.48525489e+00 -5.64675914e+00  6.68223842e-01  1.78051853e+00\n",
      "  9.67587490e-01 -2.94540093e+00 -5.37869330e+00 -4.06071993e+00\n",
      " -5.10103691e+00  2.70620665e+00  8.50654630e+00 -5.52257989e+00\n",
      " -4.74290957e+00 -4.65509728e+00  2.62226674e+00 -2.15736239e-01\n",
      "  2.34014280e+00 -3.37593228e-01  6.63822776e+00  3.61554442e+00\n",
      "  6.64543905e+00 -5.13104542e+00  1.79917644e+00  1.32156449e-01\n",
      " -7.59853413e+00 -7.53978647e-01 -2.74252348e+00  6.58051007e-01\n",
      " -2.19336388e+00 -1.47126093e+00  5.01452572e+00 -2.66753763e+00\n",
      " -2.03087660e+00  6.25532128e+00  1.88469144e+00 -2.28467921e-01\n",
      "  3.63541650e+00 -8.87208279e-01  7.24107044e+00 -6.00148156e+00\n",
      "  3.18661715e+00 -1.11246578e+00 -5.76585016e+00 -3.30592540e+00\n",
      "  6.30944360e+00 -2.96407590e+00  1.09875686e+00  1.92365700e+00\n",
      "  4.61786637e-02  2.11021966e+00 -2.89214750e+00  7.07891598e-02\n",
      "  7.62939891e-01 -6.14296399e+00 -5.86477192e+00  1.70129215e+00\n",
      "  4.50615617e+00 -1.92405242e+00  1.08675390e+00  6.91309202e+00\n",
      "  2.11281280e+00 -4.55630855e+00  1.58414165e+00  2.54980366e+00\n",
      "  6.43682654e+00  1.14930587e+00 -3.36719949e+00 -2.42771545e+00\n",
      "  1.97797965e+00 -1.40947884e+00 -2.68554333e+00  5.73566164e+00\n",
      " -1.29941750e+00  3.46599390e+00 -2.84559266e+00 -1.70382114e+00\n",
      " -1.14133160e+00 -1.90882539e+00 -3.95391608e+00 -7.45869096e+00\n",
      " -2.77942896e+00 -8.66757258e-02  8.42381128e+00  4.28930706e-01\n",
      " -8.23713492e+00  2.22975005e+00 -1.16458335e+01 -9.99081374e+00\n",
      " -1.42012640e+00 -7.50035647e+00 -2.99480612e+00  1.13315272e+00\n",
      "  3.90309478e+00  1.79669425e+00 -3.80718710e+00 -1.08251998e+00\n",
      " -2.54584150e-01  4.36475516e+00 -6.64829916e+00 -3.64347729e+00\n",
      "  1.84238659e+00  5.90894061e-01 -3.23490458e-01 -3.73503777e+00\n",
      "  1.97028498e+00 -4.57923852e+00  6.75096670e+00  4.96120040e+00\n",
      " -1.89852689e+01  5.94243418e+00 -3.60868235e+00 -7.04705483e+00\n",
      " -2.86602316e+00  7.18754357e+00 -2.96463945e+00 -8.72980871e+00\n",
      " -1.85931841e+00  2.33890910e+00 -6.14252854e+00 -7.65421156e-01\n",
      " -5.78215096e+00 -5.50526116e+00 -5.60756681e+00  7.29815303e-01\n",
      "  3.05585147e+00  3.50416730e+00 -2.36317909e-01  5.01690478e+00\n",
      "  4.81035354e+00 -2.70987597e+00 -5.18577937e+00 -1.87329290e+00\n",
      "  1.81050308e+00 -2.83557391e+00 -1.83280739e+00  3.71478867e+00\n",
      "  5.68602902e+00  8.89128804e-02  8.81567245e-01  6.52033063e-01\n",
      " -3.08932365e+00 -3.57293307e-01  5.52447999e+00 -7.85384101e-01\n",
      "  9.57578542e-01 -2.16820728e-01 -4.69596990e+00  1.67830706e+00\n",
      " -6.11722435e+00 -5.34053337e+00 -5.25196041e+00  4.60414451e+00\n",
      "  4.57125552e+00  3.13726585e+00  4.24763629e+00  5.28067764e+00\n",
      " -3.13450874e+00 -3.43919270e+00  3.97874013e+00 -1.19754410e+01\n",
      "  2.12569878e-01  4.47353799e+00  1.07672038e+00  3.51572872e+00\n",
      "  3.42984681e+00  2.68454843e+00 -2.65936153e+00 -5.23900934e-01\n",
      "  1.46118444e+00  5.83898218e+00  6.71573148e-01 -7.53947270e-01\n",
      "  3.37870978e+00 -3.47246107e+00 -2.09210924e+00 -6.33842808e-01\n",
      " -1.53577033e+00 -1.23356287e+01  3.55569026e+00 -1.59632633e+00\n",
      " -3.03274160e+00 -2.18514112e+00 -1.93622284e+00  7.34354256e+00\n",
      "  1.36978404e+00 -3.19860301e+00 -9.91637521e-01 -3.32737731e+00\n",
      "  6.29852162e+00  7.94110248e+00  5.15029624e+00 -3.06576245e+00\n",
      "  4.72262655e+00  2.35681449e+00 -2.37407060e+00  7.08953876e+00\n",
      " -4.71065795e+00  4.43809322e+00 -4.68242435e-01  5.46626658e+00\n",
      " -3.54552035e+00 -1.11898229e+01  1.02508130e+00 -7.61125987e-01\n",
      "  3.11908188e+00  7.11914654e+00  5.00164404e+00 -1.28550170e+01\n",
      "  7.42368730e+00  6.81980238e+00  6.15087087e+00  1.07661798e+00\n",
      " -2.08137610e+00 -9.05015553e+00 -5.40387059e+00  4.02921238e+00\n",
      " -7.38669782e+00  2.31717095e+00 -2.08872156e-01  8.94460354e-01\n",
      " -5.58323853e-01 -1.95327164e+01  7.12073139e+00 -7.15639145e+00\n",
      " -1.17108258e+01 -1.39250279e-01  5.20101320e+00  1.03028050e+00\n",
      "  5.06678434e+00 -6.39690419e+00 -8.37363512e+00 -2.31224832e+00\n",
      "  2.38594037e+00 -2.55514041e+00  1.31326898e+00  1.99705541e+00\n",
      " -6.95073752e-02  7.83474258e-01 -3.68711882e+00 -5.36271036e+00\n",
      "  7.58713894e-01 -2.06776298e+00  3.09141906e+00 -5.50937514e+00\n",
      " -5.63690234e+00  2.16792762e+00 -2.59236791e-01  5.01947949e+00\n",
      " -2.67090052e+00  3.04897761e+00  4.13949768e+00  5.18345925e+00\n",
      "  4.38272952e+00  5.96297152e+00  1.24514795e+00 -1.40575353e+00\n",
      "  4.01364097e+00 -1.65440022e-02  5.76743490e+00  7.57547702e+00\n",
      "  6.26712309e+00  4.71225937e+00 -8.35669037e+00 -1.97362681e+00\n",
      " -4.30355337e-01  5.07625147e+00  2.09017283e+00 -1.95032441e-01\n",
      "  4.39878783e+00  1.04087865e+01  2.01069522e+00 -1.01651201e-02\n",
      " -1.30707617e+00  2.50434704e+00 -4.08593212e+00 -7.90218202e+00\n",
      "  1.41442717e+00  6.25361940e-01 -7.01346693e+00 -5.63817091e+00\n",
      " -3.21166493e+00 -8.00934990e+00 -2.81725480e+00  6.01402469e+00\n",
      "  1.47945276e+00 -7.39758081e+00 -6.96078810e-01  1.78766669e+00\n",
      " -1.28801555e+00  1.90845818e+00  7.01102596e-01 -6.68160401e+00\n",
      "  3.86900743e+00 -8.40418253e+00 -3.03869242e+00 -8.49186256e+00\n",
      " -8.67165558e+00 -1.56394840e+00 -6.24716956e+00 -3.10016553e+00\n",
      " -3.31410763e+00 -6.74694374e+00  2.32933105e+00 -2.97458816e+00\n",
      "  3.79636183e+00  3.51019141e-01 -6.89098977e+00 -4.12144979e+00\n",
      " -3.96187401e+00 -1.67043430e+00  2.33304436e+00 -8.41237377e-01\n",
      " -4.77819263e+00  2.47811489e-01  4.13921877e+00 -7.65228839e+00\n",
      " -2.35289596e+00 -9.74639951e+00 -5.32329884e+00 -6.99304313e+00\n",
      " -3.83315697e+00  7.94629493e+00  1.12476130e+00  5.71534129e-01\n",
      "  1.49970121e+00 -3.81452102e+00 -1.95294472e+00  4.84131904e+00\n",
      "  5.68667897e+00 -3.82751792e+00  1.16532026e+00 -5.30864176e+00\n",
      " -1.82293088e+00 -5.71140661e+00  1.63633053e+00  1.80770202e+00\n",
      "  9.76967979e-01  6.81432505e+00 -2.14808887e+00  4.00226793e+00\n",
      " -5.99316809e+00 -3.54352122e+00 -3.69909509e+00 -2.58966367e+00\n",
      " -9.46519966e+00  1.52021291e+00  4.11166061e+00  6.80627288e+00\n",
      " -2.44677560e+00  3.97146954e+00 -5.84064161e+00  1.61765436e+00\n",
      "  1.37278817e+00  2.85200116e+00  8.99661236e+00  5.01724412e+00\n",
      "  2.56376399e+00  2.24324325e+00  2.98943494e-01 -6.04431669e+00\n",
      " -3.82989862e+00  3.25238314e+00 -4.62007519e+00 -2.89252093e+00\n",
      " -6.97592777e+00  3.48328926e+00 -7.29207119e-01  7.84696291e+00\n",
      " -1.34381750e+00  1.03477351e+01  4.11523438e+00 -1.01884379e-01\n",
      "  1.47705622e+00 -4.35404454e+00 -1.93742324e+00 -1.88950632e+00\n",
      "  2.64869029e+00  5.83857146e-01 -1.87926003e+00  5.20698147e+00\n",
      " -2.19012643e+00  3.37179068e+00  2.63086399e+00  4.13040177e+00\n",
      "  6.28209599e+00  8.93351898e-01  1.01980768e+00 -5.99122799e+00\n",
      " -2.78113496e+00  5.49543121e+00  6.64180209e-01 -1.25645562e+00\n",
      "  1.60722901e+00  9.29591810e+00 -1.13026822e+00 -1.33936292e+01\n",
      " -1.64709798e+00 -1.05376379e+01  3.33538993e+00  4.74109505e+00\n",
      "  5.14340635e+00 -1.50973132e+00  5.90140091e+00 -6.47863979e-01\n",
      "  1.12675058e+00 -1.67326782e+01 -5.09064683e-01  1.52595444e+00\n",
      "  1.47796202e+00 -5.05426600e+00 -2.33278556e+00 -6.64594947e+00\n",
      " -3.56726378e-01  3.60541600e+00  7.62389691e-01  2.61206475e-01\n",
      " -9.73396702e+00  2.65656042e+00  4.26780608e+00 -8.66550058e-01\n",
      " -7.03233209e+00 -9.18403084e-01 -1.39518250e+00  7.60594020e+00\n",
      "  8.58716972e+00 -3.19233529e-01 -1.80110081e+00 -6.33127192e+00\n",
      " -5.50774457e+00  3.23927457e+00 -6.51662201e-01  9.21440453e+00\n",
      " -6.28390940e+00  7.68896997e+00 -3.15496491e+00 -3.66679473e-01\n",
      "  2.76621313e+00  4.63383724e+00  8.29627454e+00  3.70444715e+00\n",
      "  3.08511909e+00 -5.17530799e+00  4.98303502e-01 -4.05200999e+00\n",
      "  6.35327033e+00 -3.94281753e+00 -8.34205866e+00  9.20701354e-01\n",
      "  5.58220623e+00  1.76627851e+00  7.90578301e+00 -3.92360996e+00\n",
      "  1.10913751e+00 -4.36677967e+00 -7.89621863e-01 -1.40017748e+00\n",
      " -5.26549645e+00 -5.02552229e+00  1.15051000e+01 -1.09211172e+01\n",
      " -1.46200950e+00  6.08909498e+00 -6.65938301e+00  6.08912303e+00]\n"
     ]
    }
   ],
   "source": [
    "bias = llfs - avg_llf\n",
    "print(bias)"
   ]
  },
  {
   "cell_type": "code",
   "execution_count": 55,
   "metadata": {},
   "outputs": [
    {
     "data": {
      "text/plain": [
       "-0.29287593339503143"
      ]
     },
     "execution_count": 55,
     "metadata": {},
     "output_type": "execute_result"
    },
    {
     "data": {
      "image/png": "[encoded data removed]",
      "text/plain": [
       "<Figure size 432x288 with 1 Axes>"
      ]
     },
     "metadata": {
      "needs_background": "light"
     },
     "output_type": "display_data"
    }
   ],
   "source": [
    "plt.hist(bias)\n",
    "np.mean(bias) # 本当は1に近い値が出てほしい(平均対数尤度の出し方が間違っている？)"
   ]
  }
 ],
 "metadata": {
  "kernelspec": {
   "display_name": "Python 3",
   "language": "python",
   "name": "python3"
  },
  "language_info": {
   "codemirror_mode": {
    "name": "ipython",
    "version": 3
   },
   "file_extension": ".py",
   "mimetype": "text/x-python",
   "name": "python",
   "nbconvert_exporter": "python",
   "pygments_lexer": "ipython3",
   "version": "3.8.10"
  },
  "orig_nbformat": 4,
  "vscode": {
   "interpreter": {
    "hash": "31f2aee4e71d21fbe5cf8b01ff0e069b9275f58929596ceb00d14d90e3e16cd6"
   }
  }
 },
 "nbformat": 4,
 "nbformat_minor": 2
}
