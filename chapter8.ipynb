{
 "cells": [
  {
   "attachments": {},
   "cell_type": "markdown",
   "metadata": {},
   "source": [
    "## 8. マルコフ連鎖モンテカルロ法(MCMC)法とベイズ統計モデル\n",
    "- [Pythonで実装しながら緑本を学ぶ (第8章 マルコフ連鎖モンテカルロ(MCMC)法とベイズ統計モデル)](https://ohke.hateblo.jp/entry/2018/02/24/230000)\n",
    "- MCMCの基本条件に関しては、[ゼロからできるＭＣＭＣ　マルコフ連鎖モンテカルロ法の実践的入門](https://www.amazon.co.jp/dp/B08JV9YC1F)を参考にした"
   ]
  },
  {
   "cell_type": "code",
   "execution_count": 1,
   "metadata": {},
   "outputs": [
    {
     "name": "stderr",
     "output_type": "stream",
     "text": [
      "/home/yoshino/.local/lib/python3.8/site-packages/scipy/__init__.py:146: UserWarning: A NumPy version >=1.16.5 and <1.23.0 is required for this version of SciPy (detected version 1.23.1\n",
      "  warnings.warn(f\"A NumPy version >={np_minversion} and <{np_maxversion}\"\n"
     ]
    }
   ],
   "source": [
    "import numpy as np\n",
    "import scipy\n",
    "from scipy.stats import poisson, binom\n",
    "import matplotlib.pyplot as plt\n",
    "import polars as pl\n",
    "import pandas as pd"
   ]
  },
  {
   "cell_type": "code",
   "execution_count": 2,
   "metadata": {},
   "outputs": [
    {
     "name": "stdout",
     "output_type": "stream",
     "text": [
      "20\n"
     ]
    },
    {
     "data": {
      "text/html": [
       "<div>\n",
       "<style scoped>\n",
       "    .dataframe tbody tr th:only-of-type {\n",
       "        vertical-align: middle;\n",
       "    }\n",
       "\n",
       "    .dataframe tbody tr th {\n",
       "        vertical-align: top;\n",
       "    }\n",
       "\n",
       "    .dataframe thead th {\n",
       "        text-align: right;\n",
       "    }\n",
       "</style>\n",
       "<table border=\"1\" class=\"dataframe\">\n",
       "  <thead>\n",
       "    <tr style=\"text-align: right;\">\n",
       "      <th></th>\n",
       "      <th>y</th>\n",
       "      <th>N</th>\n",
       "    </tr>\n",
       "  </thead>\n",
       "  <tbody>\n",
       "    <tr>\n",
       "      <th>0</th>\n",
       "      <td>4</td>\n",
       "      <td>8</td>\n",
       "    </tr>\n",
       "    <tr>\n",
       "      <th>1</th>\n",
       "      <td>3</td>\n",
       "      <td>8</td>\n",
       "    </tr>\n",
       "    <tr>\n",
       "      <th>2</th>\n",
       "      <td>4</td>\n",
       "      <td>8</td>\n",
       "    </tr>\n",
       "    <tr>\n",
       "      <th>3</th>\n",
       "      <td>5</td>\n",
       "      <td>8</td>\n",
       "    </tr>\n",
       "    <tr>\n",
       "      <th>4</th>\n",
       "      <td>5</td>\n",
       "      <td>8</td>\n",
       "    </tr>\n",
       "  </tbody>\n",
       "</table>\n",
       "</div>"
      ],
      "text/plain": [
       "   y  N\n",
       "0  4  8\n",
       "1  3  8\n",
       "2  4  8\n",
       "3  5  8\n",
       "4  5  8"
      ]
     },
     "execution_count": 2,
     "metadata": {},
     "output_type": "execute_result"
    }
   ],
   "source": [
    "data = pd.DataFrame(data=[4,3,4,5,5,2,3,1,4,0,1,5,5,6,5,4,4,5,3,4], columns=['y'])\n",
    "data['N'] = np.ones(20, dtype=np.int32) * 8\n",
    "\n",
    "print(len(data))\n",
    "data.head()"
   ]
  },
  {
   "cell_type": "code",
   "execution_count": 3,
   "metadata": {},
   "outputs": [
    {
     "name": "stderr",
     "output_type": "stream",
     "text": [
      "/home/yoshino/.local/lib/python3.8/site-packages/IPython/core/pylabtools.py:151: UserWarning: Glyph 31278 (\\N{CJK UNIFIED IDEOGRAPH-7A2E}) missing from current font.\n",
      "  fig.canvas.print_figure(bytes_io, **kw)\n",
      "/home/yoshino/.local/lib/python3.8/site-packages/IPython/core/pylabtools.py:151: UserWarning: Glyph 23376 (\\N{CJK UNIFIED IDEOGRAPH-5B50}) missing from current font.\n",
      "  fig.canvas.print_figure(bytes_io, **kw)\n",
      "/home/yoshino/.local/lib/python3.8/site-packages/IPython/core/pylabtools.py:151: UserWarning: Glyph 25968 (\\N{CJK UNIFIED IDEOGRAPH-6570}) missing from current font.\n",
      "  fig.canvas.print_figure(bytes_io, **kw)\n"
     ]
    },
    {
     "data": {
      "image/png": "[encoded data removed]",
      "text/plain": [
       "<Figure size 432x288 with 1 Axes>"
      ]
     },
     "metadata": {
      "needs_background": "light"
     },
     "output_type": "display_data"
    }
   ],
   "source": [
    "plt.hist(data['y'], bins=range(9))\n",
    "plt.xlabel('y')\n",
    "plt.ylabel('種子数')\n",
    "plt.show()"
   ]
  },
  {
   "attachments": {},
   "cell_type": "markdown",
   "metadata": {},
   "source": [
    "### 8.1 例題: 種子の生存確率(最尤推定による近似)"
   ]
  },
  {
   "cell_type": "code",
   "execution_count": 4,
   "metadata": {},
   "outputs": [],
   "source": [
    "import statsmodels.api as sm\n",
    "import statsmodels.formula.api as smf "
   ]
  },
  {
   "cell_type": "code",
   "execution_count": 18,
   "metadata": {},
   "outputs": [
    {
     "data": {
      "text/html": [
       "<table class=\"simpletable\">\n",
       "<caption>Generalized Linear Model Regression Results</caption>\n",
       "<tr>\n",
       "  <th>Dep. Variable:</th>   <td>['y', 'I(N - y)']</td> <th>  No. Observations:  </th>   <td>    20</td>  \n",
       "</tr>\n",
       "<tr>\n",
       "  <th>Model:</th>                  <td>GLM</td>        <th>  Df Residuals:      </th>   <td>    19</td>  \n",
       "</tr>\n",
       "<tr>\n",
       "  <th>Model Family:</th>        <td>Binomial</td>      <th>  Df Model:          </th>   <td>     0</td>  \n",
       "</tr>\n",
       "<tr>\n",
       "  <th>Link Function:</th>         <td>Logit</td>       <th>  Scale:             </th>  <td>  1.0000</td> \n",
       "</tr>\n",
       "<tr>\n",
       "  <th>Method:</th>                <td>IRLS</td>        <th>  Log-Likelihood:    </th>  <td> -37.748</td> \n",
       "</tr>\n",
       "<tr>\n",
       "  <th>Date:</th>            <td>Mon, 23 Jan 2023</td>  <th>  Deviance:          </th>  <td>  28.722</td> \n",
       "</tr>\n",
       "<tr>\n",
       "  <th>Time:</th>                <td>20:32:53</td>      <th>  Pearson chi2:      </th>   <td>  24.5</td>  \n",
       "</tr>\n",
       "<tr>\n",
       "  <th>No. Iterations:</th>          <td>3</td>         <th>  Pseudo R-squ. (CS):</th> <td>-1.332e-15</td>\n",
       "</tr>\n",
       "<tr>\n",
       "  <th>Covariance Type:</th>     <td>nonrobust</td>     <th>                     </th>      <td> </td>    \n",
       "</tr>\n",
       "</table>\n",
       "<table class=\"simpletable\">\n",
       "<tr>\n",
       "      <td></td>         <th>coef</th>     <th>std err</th>      <th>z</th>      <th>P>|z|</th>  <th>[0.025</th>    <th>0.975]</th>  \n",
       "</tr>\n",
       "<tr>\n",
       "  <th>Intercept</th> <td>   -0.1754</td> <td>    0.159</td> <td>   -1.105</td> <td> 0.269</td> <td>   -0.487</td> <td>    0.136</td>\n",
       "</tr>\n",
       "</table>"
      ],
      "text/plain": [
       "<class 'statsmodels.iolib.summary.Summary'>\n",
       "\"\"\"\n",
       "                 Generalized Linear Model Regression Results                  \n",
       "==============================================================================\n",
       "Dep. Variable:      ['y', 'I(N - y)']   No. Observations:                   20\n",
       "Model:                            GLM   Df Residuals:                       19\n",
       "Model Family:                Binomial   Df Model:                            0\n",
       "Link Function:                  Logit   Scale:                          1.0000\n",
       "Method:                          IRLS   Log-Likelihood:                -37.748\n",
       "Date:                Mon, 23 Jan 2023   Deviance:                       28.722\n",
       "Time:                        20:32:53   Pearson chi2:                     24.5\n",
       "No. Iterations:                     3   Pseudo R-squ. (CS):         -1.332e-15\n",
       "Covariance Type:            nonrobust                                         \n",
       "==============================================================================\n",
       "                 coef    std err          z      P>|z|      [0.025      0.975]\n",
       "------------------------------------------------------------------------------\n",
       "Intercept     -0.1754      0.159     -1.105      0.269      -0.487       0.136\n",
       "==============================================================================\n",
       "\"\"\""
      ]
     },
     "execution_count": 18,
     "metadata": {},
     "output_type": "execute_result"
    }
   ],
   "source": [
    "result = smf.glm(formula='y + I(N - y) ~ 1', data=data, family=sm.families.Binomial()).fit()\n",
    "result.summary()"
   ]
  },
  {
   "cell_type": "code",
   "execution_count": 19,
   "metadata": {},
   "outputs": [
    {
     "name": "stdout",
     "output_type": "stream",
     "text": [
      "最尤推定値:  0.4562500000001564\n"
     ]
    }
   ],
   "source": [
    "print('最尤推定値: ', 1 / (1 + np.exp(-result.params['Intercept'])))"
   ]
  },
  {
   "attachments": {},
   "cell_type": "markdown",
   "metadata": {},
   "source": [
    "### 8.2 ふらふら試行錯誤による最尤推定"
   ]
  },
  {
   "cell_type": "code",
   "execution_count": 5,
   "metadata": {},
   "outputs": [
    {
     "data": {
      "text/plain": [
       "[<matplotlib.lines.Line2D at 0x7f6795743fd0>]"
      ]
     },
     "execution_count": 5,
     "metadata": {},
     "output_type": "execute_result"
    },
    {
     "data": {
      "image/png": "[encoded data removed]",
      "text/plain": [
       "<Figure size 432x288 with 1 Axes>"
      ]
     },
     "metadata": {
      "needs_background": "light"
     },
     "output_type": "display_data"
    }
   ],
   "source": [
    "# 効率の悪いサンプリングの例1\n",
    "# 二項分布のパラメータqを0.01から0.99まで0.01刻みで対数尤度を求めていき、\n",
    "# もっとも高い値を、最尤推定の値として近似的に算出する\n",
    "import math\n",
    "import random\n",
    "\n",
    "def loglikelihood(data, q):\n",
    "    ll = 0\n",
    "    \n",
    "    for i, r in data.iterrows():\n",
    "        ll = ll + math.log(scipy.special.comb(r['N'], r['y'])) + r['y']*math.log(q) + (r['N'] - r['y'])*math.log(1 - q)\n",
    "        \n",
    "    return ll\n",
    "\n",
    "qs = np.arange(0.01, 0.99, 0.01)\n",
    "\n",
    "lls = []\n",
    "for q in qs:\n",
    "  ll = loglikelihood(data, q)\n",
    "  lls.append(ll)\n",
    "\n",
    "plt.plot(qs, lls)\n"
   ]
  },
  {
   "cell_type": "code",
   "execution_count": 6,
   "metadata": {},
   "outputs": [],
   "source": [
    "# 効率の悪いサンプリングの例2\n",
    "# qの値を50％の可能性で上か下か変化させていき、対数尤度が高くなれば、qの値を更新する\n",
    "def hurahura(data, q, n):\n",
    "  qs = [q]\n",
    "  \n",
    "  current_q = q\n",
    "  current_ll = loglikelihood(data, current_q)\n",
    "  \n",
    "  for r in np.random.random(n):\n",
    "    if r > 0.5:\n",
    "      q = current_q + 0.001\n",
    "    else:\n",
    "      q = current_q - 0.001\n",
    "    ll = loglikelihood(data, q)\n",
    "\n",
    "    if ll > current_ll:\n",
    "      current_ll = ll\n",
    "      current_q = q\n",
    "      \n",
    "    qs.append(q) \n",
    "\n",
    "  return qs\n",
    "\n",
    "hurahura06 = hurahura(data, 0.6, 500)    \n",
    "hurahura03 = hurahura(data, 0.3, 500)    "
   ]
  },
  {
   "cell_type": "code",
   "execution_count": 85,
   "metadata": {},
   "outputs": [
    {
     "data": {
      "text/plain": [
       "[<matplotlib.lines.Line2D at 0x7f42eaa922b0>]"
      ]
     },
     "execution_count": 85,
     "metadata": {},
     "output_type": "execute_result"
    },
    {
     "data": {
      "image/png": "[encoded data removed]",
      "text/plain": [
       "<Figure size 432x288 with 1 Axes>"
      ]
     },
     "metadata": {
      "needs_background": "light"
     },
     "output_type": "display_data"
    }
   ],
   "source": [
    "plt.plot(np.arange(len(hurahura06)), hurahura06, label='q start at 0.6', c='b')\n",
    "plt.plot(np.arange(len(hurahura03)), hurahura03, label='q start at 0.3', c='r')"
   ]
  },
  {
   "attachments": {},
   "cell_type": "markdown",
   "metadata": {},
   "source": [
    "### 8.3.1 メトロポリス法でサンプリングしてみる\n",
    "- ベイズ統計学的な枠組みで考えると、尤度 x 事前分布となる\n",
    "- ここでのＭＣＭＣでは、L(q) x p(q)(定数)となっていると考えると、サンプリングした確率分布: p(q|Y)もベイズ的な枠組みと整合性をもって考えることができる"
   ]
  },
  {
   "cell_type": "code",
   "execution_count": 71,
   "metadata": {},
   "outputs": [],
   "source": [
    "# loglikelihood: 二項分布の対数尤度を求める式: 作用関数\n",
    "def mcmc(data, q, n):\n",
    "  qs = [q]\n",
    "  \n",
    "  current_q = q\n",
    "  current_ll = loglikelihood(data, current_q)\n",
    "  \n",
    "  for r1, r2 in zip(np.random.random(n), np.random.random(n)):\n",
    "    q = current_q + 0.01 if r1 > 0.5 else current_q - 0.01\n",
    "\n",
    "    # 二項定理のqのパラメータ: 0~1\n",
    "    if q <= 0.01:\n",
    "      q = 0.02\n",
    "    elif q >= 0.99:\n",
    "      q = 0.98\n",
    "\n",
    "    ll = loglikelihood(data, q)\n",
    "\n",
    "    if current_ll < ll or (math.exp(ll - current_ll)  > r2):\n",
    "      current_ll = ll\n",
    "      current_q = q\n",
    "      \n",
    "    qs.append(q) \n",
    "\n",
    "  return qs"
   ]
  },
  {
   "cell_type": "code",
   "execution_count": 58,
   "metadata": {},
   "outputs": [],
   "source": [
    "mcmc03_100 = mcmc(data, 0.3, 100)\n",
    "mcmc03_1000 = mcmc(data, 0.3, 1000)\n",
    "mcmc03_10000 = mcmc(data, 0.3, 10000)"
   ]
  },
  {
   "cell_type": "code",
   "execution_count": 66,
   "metadata": {},
   "outputs": [
    {
     "data": {
      "text/plain": [
       "[<matplotlib.lines.Line2D at 0x7f678b776400>]"
      ]
     },
     "execution_count": 66,
     "metadata": {},
     "output_type": "execute_result"
    },
    {
     "data": {
      "image/png": "[encoded data removed]",
      "text/plain": [
       "<Figure size 432x288 with 1 Axes>"
      ]
     },
     "metadata": {
      "needs_background": "light"
     },
     "output_type": "display_data"
    }
   ],
   "source": [
    "plt.plot(np.arange(len(mcmc03_100)), mcmc03_100, c='b')"
   ]
  },
  {
   "cell_type": "code",
   "execution_count": 61,
   "metadata": {},
   "outputs": [
    {
     "data": {
      "text/plain": [
       "[<matplotlib.lines.Line2D at 0x7f678b93efa0>]"
      ]
     },
     "execution_count": 61,
     "metadata": {},
     "output_type": "execute_result"
    },
    {
     "data": {
      "image/png": "[encoded data removed]",
      "text/plain": [
       "<Figure size 432x288 with 1 Axes>"
      ]
     },
     "metadata": {
      "needs_background": "light"
     },
     "output_type": "display_data"
    }
   ],
   "source": [
    "plt.plot(np.arange(len(mcmc03_1000)), mcmc03_1000, c='r')"
   ]
  },
  {
   "cell_type": "code",
   "execution_count": 62,
   "metadata": {},
   "outputs": [
    {
     "data": {
      "text/plain": [
       "[<matplotlib.lines.Line2D at 0x7f678b8a9100>]"
      ]
     },
     "execution_count": 62,
     "metadata": {},
     "output_type": "execute_result"
    },
    {
     "data": {
      "image/png": "[encoded data removed]",
      "text/plain": [
       "<Figure size 432x288 with 1 Axes>"
      ]
     },
     "metadata": {
      "needs_background": "light"
     },
     "output_type": "display_data"
    }
   ],
   "source": [
    "plt.plot(np.arange(len(mcmc03_10000)), mcmc03_10000, c='g')"
   ]
  },
  {
   "cell_type": "code",
   "execution_count": 70,
   "metadata": {},
   "outputs": [
    {
     "data": {
      "text/plain": [
       "(array([  1.,   1.,   0.,   2.,   7.,   0.,  14.,  31.,   0.,  56.,  83.,\n",
       "          0., 129.,   0., 206., 274.,   0., 426., 593.,   0., 664., 746.,\n",
       "          0., 824.,   0., 876., 914.,   0., 884., 795.,   0., 674., 560.,\n",
       "          0., 428., 304.,   0., 206.,   0., 127.,  79.,   0.,  46.,  22.,\n",
       "          0.,  16.,   7.,   0.,   5.,   1.]),\n",
       " array([0.29  , 0.2964, 0.3028, 0.3092, 0.3156, 0.322 , 0.3284, 0.3348,\n",
       "        0.3412, 0.3476, 0.354 , 0.3604, 0.3668, 0.3732, 0.3796, 0.386 ,\n",
       "        0.3924, 0.3988, 0.4052, 0.4116, 0.418 , 0.4244, 0.4308, 0.4372,\n",
       "        0.4436, 0.45  , 0.4564, 0.4628, 0.4692, 0.4756, 0.482 , 0.4884,\n",
       "        0.4948, 0.5012, 0.5076, 0.514 , 0.5204, 0.5268, 0.5332, 0.5396,\n",
       "        0.546 , 0.5524, 0.5588, 0.5652, 0.5716, 0.578 , 0.5844, 0.5908,\n",
       "        0.5972, 0.6036, 0.61  ]),\n",
       " <BarContainer object of 50 artists>)"
      ]
     },
     "execution_count": 70,
     "metadata": {},
     "output_type": "execute_result"
    },
    {
     "data": {
      "image/png": "[encoded data removed]",
      "text/plain": [
       "<Figure size 432x288 with 1 Axes>"
      ]
     },
     "metadata": {
      "needs_background": "light"
     },
     "output_type": "display_data"
    }
   ],
   "source": [
    "# マルコフ連鎖の定常分布: p(q|Y) \n",
    "# 対数尤度と比例関係のある\n",
    "plt.hist(mcmc03_10000, bins=50)"
   ]
  }
 ],
 "metadata": {
  "kernelspec": {
   "display_name": "Python 3",
   "language": "python",
   "name": "python3"
  },
  "language_info": {
   "codemirror_mode": {
    "name": "ipython",
    "version": 3
   },
   "file_extension": ".py",
   "mimetype": "text/x-python",
   "name": "python",
   "nbconvert_exporter": "python",
   "pygments_lexer": "ipython3",
   "version": "3.8.10"
  },
  "orig_nbformat": 4,
  "vscode": {
   "interpreter": {
    "hash": "31f2aee4e71d21fbe5cf8b01ff0e069b9275f58929596ceb00d14d90e3e16cd6"
   }
  }
 },
 "nbformat": 4,
 "nbformat_minor": 2
}
