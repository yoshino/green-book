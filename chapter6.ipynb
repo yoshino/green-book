{
 "cells": [
  {
   "attachments": {},
   "cell_type": "markdown",
   "metadata": {},
   "source": [
    "## 6. GLMの応用範囲をひろげる\n",
    "- [Pythonで実装しながら緑本を学ぶ (第6章 GLMの応用範囲を広げる -ロジスティック回帰など-)](https://ohke.hateblo.jp/entry/2018/02/12/230000)"
   ]
  },
  {
   "cell_type": "code",
   "execution_count": 2,
   "metadata": {},
   "outputs": [
    {
     "name": "stderr",
     "output_type": "stream",
     "text": [
      "/home/yoshino/.local/lib/python3.8/site-packages/scipy/__init__.py:146: UserWarning: A NumPy version >=1.16.5 and <1.23.0 is required for this version of SciPy (detected version 1.23.1\n",
      "  warnings.warn(f\"A NumPy version >={np_minversion} and <{np_maxversion}\"\n"
     ]
    }
   ],
   "source": [
    "import numpy as np\n",
    "from scipy.stats import poisson\n",
    "import matplotlib.pyplot as plt\n",
    "import polars as pl\n",
    "import pandas as pd\n",
    "import os\n",
    "import requests"
   ]
  },
  {
   "cell_type": "code",
   "execution_count": 9,
   "metadata": {},
   "outputs": [
    {
     "data": {
      "text/html": [
       "<div>\n",
       "<style scoped>\n",
       "    .dataframe tbody tr th:only-of-type {\n",
       "        vertical-align: middle;\n",
       "    }\n",
       "\n",
       "    .dataframe tbody tr th {\n",
       "        vertical-align: top;\n",
       "    }\n",
       "\n",
       "    .dataframe thead th {\n",
       "        text-align: right;\n",
       "    }\n",
       "</style>\n",
       "<table border=\"1\" class=\"dataframe\">\n",
       "  <thead>\n",
       "    <tr style=\"text-align: right;\">\n",
       "      <th></th>\n",
       "      <th>N</th>\n",
       "      <th>y</th>\n",
       "      <th>x</th>\n",
       "      <th>f</th>\n",
       "    </tr>\n",
       "  </thead>\n",
       "  <tbody>\n",
       "    <tr>\n",
       "      <th>0</th>\n",
       "      <td>8</td>\n",
       "      <td>1</td>\n",
       "      <td>9.76</td>\n",
       "      <td>C</td>\n",
       "    </tr>\n",
       "    <tr>\n",
       "      <th>1</th>\n",
       "      <td>8</td>\n",
       "      <td>6</td>\n",
       "      <td>10.48</td>\n",
       "      <td>C</td>\n",
       "    </tr>\n",
       "    <tr>\n",
       "      <th>2</th>\n",
       "      <td>8</td>\n",
       "      <td>5</td>\n",
       "      <td>10.83</td>\n",
       "      <td>C</td>\n",
       "    </tr>\n",
       "    <tr>\n",
       "      <th>3</th>\n",
       "      <td>8</td>\n",
       "      <td>6</td>\n",
       "      <td>10.94</td>\n",
       "      <td>C</td>\n",
       "    </tr>\n",
       "    <tr>\n",
       "      <th>4</th>\n",
       "      <td>8</td>\n",
       "      <td>1</td>\n",
       "      <td>9.37</td>\n",
       "      <td>C</td>\n",
       "    </tr>\n",
       "  </tbody>\n",
       "</table>\n",
       "</div>"
      ],
      "text/plain": [
       "   N  y      x  f\n",
       "0  8  1   9.76  C\n",
       "1  8  6  10.48  C\n",
       "2  8  5  10.83  C\n",
       "3  8  6  10.94  C\n",
       "4  8  1   9.37  C"
      ]
     },
     "execution_count": 9,
     "metadata": {},
     "output_type": "execute_result"
    }
   ],
   "source": [
    "file_path = './data/data4a.csv'\n",
    "\n",
    "if not os.path.isfile(file_path):\n",
    "  response = requests.get('https://kuboweb.github.io/-kubo/stat/iwanamibook/fig/binomial/data4a.csv')\n",
    "  with open (file_path, 'wb') as f:\n",
    "      f.write(response.content)\n",
    "      f.close()\n",
    "\n",
    "df = pd.read_csv(file_path)\n",
    "df.head()"
   ]
  },
  {
   "cell_type": "code",
   "execution_count": 10,
   "metadata": {},
   "outputs": [
    {
     "data": {
      "text/html": [
       "<div>\n",
       "<style scoped>\n",
       "    .dataframe tbody tr th:only-of-type {\n",
       "        vertical-align: middle;\n",
       "    }\n",
       "\n",
       "    .dataframe tbody tr th {\n",
       "        vertical-align: top;\n",
       "    }\n",
       "\n",
       "    .dataframe thead th {\n",
       "        text-align: right;\n",
       "    }\n",
       "</style>\n",
       "<table border=\"1\" class=\"dataframe\">\n",
       "  <thead>\n",
       "    <tr style=\"text-align: right;\">\n",
       "      <th></th>\n",
       "      <th>N</th>\n",
       "      <th>y</th>\n",
       "      <th>x</th>\n",
       "    </tr>\n",
       "  </thead>\n",
       "  <tbody>\n",
       "    <tr>\n",
       "      <th>count</th>\n",
       "      <td>100.0</td>\n",
       "      <td>100.000000</td>\n",
       "      <td>100.000000</td>\n",
       "    </tr>\n",
       "    <tr>\n",
       "      <th>mean</th>\n",
       "      <td>8.0</td>\n",
       "      <td>5.080000</td>\n",
       "      <td>9.967200</td>\n",
       "    </tr>\n",
       "    <tr>\n",
       "      <th>std</th>\n",
       "      <td>0.0</td>\n",
       "      <td>2.743882</td>\n",
       "      <td>1.088954</td>\n",
       "    </tr>\n",
       "    <tr>\n",
       "      <th>min</th>\n",
       "      <td>8.0</td>\n",
       "      <td>0.000000</td>\n",
       "      <td>7.660000</td>\n",
       "    </tr>\n",
       "    <tr>\n",
       "      <th>25%</th>\n",
       "      <td>8.0</td>\n",
       "      <td>3.000000</td>\n",
       "      <td>9.337500</td>\n",
       "    </tr>\n",
       "    <tr>\n",
       "      <th>50%</th>\n",
       "      <td>8.0</td>\n",
       "      <td>6.000000</td>\n",
       "      <td>9.965000</td>\n",
       "    </tr>\n",
       "    <tr>\n",
       "      <th>75%</th>\n",
       "      <td>8.0</td>\n",
       "      <td>8.000000</td>\n",
       "      <td>10.770000</td>\n",
       "    </tr>\n",
       "    <tr>\n",
       "      <th>max</th>\n",
       "      <td>8.0</td>\n",
       "      <td>8.000000</td>\n",
       "      <td>12.440000</td>\n",
       "    </tr>\n",
       "  </tbody>\n",
       "</table>\n",
       "</div>"
      ],
      "text/plain": [
       "           N           y           x\n",
       "count  100.0  100.000000  100.000000\n",
       "mean     8.0    5.080000    9.967200\n",
       "std      0.0    2.743882    1.088954\n",
       "min      8.0    0.000000    7.660000\n",
       "25%      8.0    3.000000    9.337500\n",
       "50%      8.0    6.000000    9.965000\n",
       "75%      8.0    8.000000   10.770000\n",
       "max      8.0    8.000000   12.440000"
      ]
     },
     "execution_count": 10,
     "metadata": {},
     "output_type": "execute_result"
    }
   ],
   "source": [
    "df.describe()"
   ]
  },
  {
   "cell_type": "code",
   "execution_count": 11,
   "metadata": {},
   "outputs": [
    {
     "data": {
      "text/plain": [
       "<matplotlib.collections.PathCollection at 0x7fa70a76c190>"
      ]
     },
     "execution_count": 11,
     "metadata": {},
     "output_type": "execute_result"
    },
    {
     "data": {
      "image/png": "[encoded data removed]",
      "text/plain": [
       "<Figure size 432x288 with 1 Axes>"
      ]
     },
     "metadata": {
      "needs_background": "light"
     },
     "output_type": "display_data"
    }
   ],
   "source": [
    "# 前章まではデータの分布をみてポアソン分布に似ているかも？と仮定して議論を薦めていたが、ここでは、\n",
    "# 問題の性質上、仮定すべきは二項分布として決まってくる\n",
    "control = df[df['f'] == 'C']\n",
    "control_x = control[['x']].to_numpy().tolist()\n",
    "control_y = control[['y']].to_numpy().tolist()\n",
    "\n",
    "treatment = df[df['f'] == 'T']\n",
    "treatment_x = treatment[['x']].to_numpy().tolist()\n",
    "treatment_y = treatment[['y']].to_numpy().tolist()\n",
    "\n",
    "plt.scatter(control_x, control_y, color='red')\n",
    "plt.scatter(treatment_x, treatment_y, color='blue')"
   ]
  },
  {
   "attachments": {},
   "cell_type": "markdown",
   "metadata": {},
   "source": [
    "### 6.4 ロジスティック回帰とロジットリンク関数\n",
    "- GLM(一般線形化モデル)において以下を指定するということ\n",
    "  - 確率分布: 二項分布\n",
    "  - リンク関数： ロジットリンク関数(ロジスティック関数を変形したもの)"
   ]
  },
  {
   "cell_type": "code",
   "execution_count": 14,
   "metadata": {},
   "outputs": [],
   "source": [
    "import statsmodels.api as sm\n",
    "import statsmodels.formula.api as smf "
   ]
  },
  {
   "cell_type": "code",
   "execution_count": 15,
   "metadata": {},
   "outputs": [
    {
     "data": {
      "text/html": [
       "<table class=\"simpletable\">\n",
       "<caption>Generalized Linear Model Regression Results</caption>\n",
       "<tr>\n",
       "  <th>Dep. Variable:</th>   <td>['y', 'I(N - y)']</td> <th>  No. Observations:  </th>  <td>   100</td> \n",
       "</tr>\n",
       "<tr>\n",
       "  <th>Model:</th>                  <td>GLM</td>        <th>  Df Residuals:      </th>  <td>    97</td> \n",
       "</tr>\n",
       "<tr>\n",
       "  <th>Model Family:</th>        <td>Binomial</td>      <th>  Df Model:          </th>  <td>     2</td> \n",
       "</tr>\n",
       "<tr>\n",
       "  <th>Link Function:</th>         <td>Logit</td>       <th>  Scale:             </th> <td>  1.0000</td>\n",
       "</tr>\n",
       "<tr>\n",
       "  <th>Method:</th>                <td>IRLS</td>        <th>  Log-Likelihood:    </th> <td> -133.11</td>\n",
       "</tr>\n",
       "<tr>\n",
       "  <th>Date:</th>            <td>Sat, 04 Feb 2023</td>  <th>  Deviance:          </th> <td>  123.03</td>\n",
       "</tr>\n",
       "<tr>\n",
       "  <th>Time:</th>                <td>12:50:34</td>      <th>  Pearson chi2:      </th>  <td>  109.</td> \n",
       "</tr>\n",
       "<tr>\n",
       "  <th>No. Iterations:</th>          <td>6</td>         <th>  Pseudo R-squ. (CS):</th>  <td>0.9768</td> \n",
       "</tr>\n",
       "<tr>\n",
       "  <th>Covariance Type:</th>     <td>nonrobust</td>     <th>                     </th>     <td> </td>   \n",
       "</tr>\n",
       "</table>\n",
       "<table class=\"simpletable\">\n",
       "<tr>\n",
       "      <td></td>         <th>coef</th>     <th>std err</th>      <th>z</th>      <th>P>|z|</th>  <th>[0.025</th>    <th>0.975]</th>  \n",
       "</tr>\n",
       "<tr>\n",
       "  <th>Intercept</th> <td>  -19.5361</td> <td>    1.414</td> <td>  -13.818</td> <td> 0.000</td> <td>  -22.307</td> <td>  -16.765</td>\n",
       "</tr>\n",
       "<tr>\n",
       "  <th>f[T.T]</th>    <td>    2.0215</td> <td>    0.231</td> <td>    8.740</td> <td> 0.000</td> <td>    1.568</td> <td>    2.475</td>\n",
       "</tr>\n",
       "<tr>\n",
       "  <th>x</th>         <td>    1.9524</td> <td>    0.139</td> <td>   14.059</td> <td> 0.000</td> <td>    1.680</td> <td>    2.225</td>\n",
       "</tr>\n",
       "</table>"
      ],
      "text/plain": [
       "<class 'statsmodels.iolib.summary.Summary'>\n",
       "\"\"\"\n",
       "                 Generalized Linear Model Regression Results                  \n",
       "==============================================================================\n",
       "Dep. Variable:      ['y', 'I(N - y)']   No. Observations:                  100\n",
       "Model:                            GLM   Df Residuals:                       97\n",
       "Model Family:                Binomial   Df Model:                            2\n",
       "Link Function:                  Logit   Scale:                          1.0000\n",
       "Method:                          IRLS   Log-Likelihood:                -133.11\n",
       "Date:                Sat, 04 Feb 2023   Deviance:                       123.03\n",
       "Time:                        12:50:34   Pearson chi2:                     109.\n",
       "No. Iterations:                     6   Pseudo R-squ. (CS):             0.9768\n",
       "Covariance Type:            nonrobust                                         \n",
       "==============================================================================\n",
       "                 coef    std err          z      P>|z|      [0.025      0.975]\n",
       "------------------------------------------------------------------------------\n",
       "Intercept    -19.5361      1.414    -13.818      0.000     -22.307     -16.765\n",
       "f[T.T]         2.0215      0.231      8.740      0.000       1.568       2.475\n",
       "x              1.9524      0.139     14.059      0.000       1.680       2.225\n",
       "==============================================================================\n",
       "\"\"\""
      ]
     },
     "execution_count": 15,
     "metadata": {},
     "output_type": "execute_result"
    }
   ],
   "source": [
    "# polarsだと上手く行かなかった\n",
    "# これまでのポアソン分布のモデルは↓みたいな感じだった\n",
    "# f_model = smf.glm(formula='y ~ f2', data=df, family=sm.families.Poisson())\n",
    "xf_model_result = smf.glm(formula='y + I(N - y) ~ x + f', data=df, family=sm.families.Binomial()).fit()\n",
    "\n",
    "# リンク関数にはロジット関数を使い、線形予測子は以下となる。\n",
    "# z = β1 + β2 x X + β3 x f \n",
    "# {β1, β2, β3} = {-19.5361, 2.0215, 1.9524}\n",
    "xf_model_result.summary()"
   ]
  },
  {
   "cell_type": "code",
   "execution_count": 16,
   "metadata": {},
   "outputs": [
    {
     "name": "stdout",
     "output_type": "stream",
     "text": [
      "Intercept   -19.536066\n",
      "f[T.T]        2.021506\n",
      "x             1.952406\n",
      "dtype: float64\n",
      "オッズ比:  7.04562150915963\n"
     ]
    }
   ],
   "source": [
    "print(xf_model_result.params)\n",
    "b1 = xf_model_result.params[0]\n",
    "b2 = xf_model_result.params[2]\n",
    "b3 = xf_model_result.params[1]\n",
    "\n",
    "x = 0.1\n",
    "f = 1\n",
    "z1 = np.exp(b1 + b2 * x + b3 * f) \n",
    "z2 = np.exp(b1 + b2 * (x + 1) + b3 * f) \n",
    "print('オッズ比: ', z2 / z1)"
   ]
  },
  {
   "cell_type": "code",
   "execution_count": 17,
   "metadata": {},
   "outputs": [],
   "source": [
    "# AICの比較\n",
    "x_model_result = smf.glm(formula='y + I(N - y) ~ x', data=df, family=sm.families.Binomial()).fit()\n",
    "f_model_result = smf.glm(formula='y + I(N - y) ~ f', data=df, family=sm.families.Binomial()).fit()"
   ]
  },
  {
   "cell_type": "code",
   "execution_count": 18,
   "metadata": {},
   "outputs": [
    {
     "name": "stdout",
     "output_type": "stream",
     "text": [
      "x :  364.3454432837159\n",
      "f :  637.7597534566678\n",
      "x + f :  272.21112928522325\n"
     ]
    }
   ],
   "source": [
    "# x + fが一番小さいAIC: 最良のモデル\n",
    "print('x : ', x_model_result.aic)\n",
    "print('f : ', f_model_result.aic)\n",
    "print('x + f : ', xf_model_result.aic)"
   ]
  },
  {
   "attachments": {},
   "cell_type": "markdown",
   "metadata": {},
   "source": [
    "### 6.5 交互作用の入った線形予測子\n",
    "- featureエンジニアリングみたい"
   ]
  },
  {
   "cell_type": "code",
   "execution_count": 40,
   "metadata": {},
   "outputs": [
    {
     "name": "stdout",
     "output_type": "stream",
     "text": [
      "AIC:  273.61059672597395\n",
      "Intercept   -18.523322\n",
      "f[T.T]       -0.063764\n",
      "x             1.852509\n",
      "x:f[T.T]      0.216338\n",
      "dtype: float64\n"
     ]
    },
    {
     "data": {
      "text/html": [
       "<table class=\"simpletable\">\n",
       "<caption>Generalized Linear Model Regression Results</caption>\n",
       "<tr>\n",
       "  <th>Dep. Variable:</th>   <td>['y', 'I(N - y)']</td> <th>  No. Observations:  </th>  <td>   100</td> \n",
       "</tr>\n",
       "<tr>\n",
       "  <th>Model:</th>                  <td>GLM</td>        <th>  Df Residuals:      </th>  <td>    96</td> \n",
       "</tr>\n",
       "<tr>\n",
       "  <th>Model Family:</th>        <td>Binomial</td>      <th>  Df Model:          </th>  <td>     3</td> \n",
       "</tr>\n",
       "<tr>\n",
       "  <th>Link Function:</th>         <td>Logit</td>       <th>  Scale:             </th> <td>  1.0000</td>\n",
       "</tr>\n",
       "<tr>\n",
       "  <th>Method:</th>                <td>IRLS</td>        <th>  Log-Likelihood:    </th> <td> -132.81</td>\n",
       "</tr>\n",
       "<tr>\n",
       "  <th>Date:</th>            <td>Fri, 20 Jan 2023</td>  <th>  Deviance:          </th> <td>  122.43</td>\n",
       "</tr>\n",
       "<tr>\n",
       "  <th>Time:</th>                <td>08:28:34</td>      <th>  Pearson chi2:      </th>  <td>  109.</td> \n",
       "</tr>\n",
       "<tr>\n",
       "  <th>No. Iterations:</th>          <td>6</td>         <th>  Pseudo R-squ. (CS):</th>  <td>0.9769</td> \n",
       "</tr>\n",
       "<tr>\n",
       "  <th>Covariance Type:</th>     <td>nonrobust</td>     <th>                     </th>     <td> </td>   \n",
       "</tr>\n",
       "</table>\n",
       "<table class=\"simpletable\">\n",
       "<tr>\n",
       "      <td></td>         <th>coef</th>     <th>std err</th>      <th>z</th>      <th>P>|z|</th>  <th>[0.025</th>    <th>0.975]</th>  \n",
       "</tr>\n",
       "<tr>\n",
       "  <th>Intercept</th> <td>  -18.5233</td> <td>    1.886</td> <td>   -9.821</td> <td> 0.000</td> <td>  -22.220</td> <td>  -14.827</td>\n",
       "</tr>\n",
       "<tr>\n",
       "  <th>f[T.T]</th>    <td>   -0.0638</td> <td>    2.704</td> <td>   -0.024</td> <td> 0.981</td> <td>   -5.363</td> <td>    5.235</td>\n",
       "</tr>\n",
       "<tr>\n",
       "  <th>x</th>         <td>    1.8525</td> <td>    0.186</td> <td>    9.983</td> <td> 0.000</td> <td>    1.489</td> <td>    2.216</td>\n",
       "</tr>\n",
       "<tr>\n",
       "  <th>x:f[T.T]</th>  <td>    0.2163</td> <td>    0.280</td> <td>    0.772</td> <td> 0.440</td> <td>   -0.333</td> <td>    0.765</td>\n",
       "</tr>\n",
       "</table>"
      ],
      "text/plain": [
       "<class 'statsmodels.iolib.summary.Summary'>\n",
       "\"\"\"\n",
       "                 Generalized Linear Model Regression Results                  \n",
       "==============================================================================\n",
       "Dep. Variable:      ['y', 'I(N - y)']   No. Observations:                  100\n",
       "Model:                            GLM   Df Residuals:                       96\n",
       "Model Family:                Binomial   Df Model:                            3\n",
       "Link Function:                  Logit   Scale:                          1.0000\n",
       "Method:                          IRLS   Log-Likelihood:                -132.81\n",
       "Date:                Fri, 20 Jan 2023   Deviance:                       122.43\n",
       "Time:                        08:28:34   Pearson chi2:                     109.\n",
       "No. Iterations:                     6   Pseudo R-squ. (CS):             0.9769\n",
       "Covariance Type:            nonrobust                                         \n",
       "==============================================================================\n",
       "                 coef    std err          z      P>|z|      [0.025      0.975]\n",
       "------------------------------------------------------------------------------\n",
       "Intercept    -18.5233      1.886     -9.821      0.000     -22.220     -14.827\n",
       "f[T.T]        -0.0638      2.704     -0.024      0.981      -5.363       5.235\n",
       "x              1.8525      0.186      9.983      0.000       1.489       2.216\n",
       "x:f[T.T]       0.2163      0.280      0.772      0.440      -0.333       0.765\n",
       "==============================================================================\n",
       "\"\"\""
      ]
     },
     "execution_count": 40,
     "metadata": {},
     "output_type": "execute_result"
    }
   ],
   "source": [
    "xf_cross_model_result = smf.glm(formula='y + I(N - y) ~ x * f', data=df, family=sm.families.Binomial()).fit()\n",
    "print('AIC: ', xf_cross_model_result.aic) # x + fのモデルより悪化している\n",
    "print(xf_cross_model_result.params)\n",
    "xf_cross_model_result.summary()"
   ]
  },
  {
   "cell_type": "code",
   "execution_count": 81,
   "metadata": {},
   "outputs": [
    {
     "data": {
      "text/plain": [
       "[<matplotlib.lines.Line2D at 0x7f983e5ed100>]"
      ]
     },
     "execution_count": 81,
     "metadata": {},
     "output_type": "execute_result"
    },
    {
     "data": {
      "image/png": "[encoded data removed]",
      "text/plain": [
       "<Figure size 432x288 with 1 Axes>"
      ]
     },
     "metadata": {
      "needs_background": "light"
     },
     "output_type": "display_data"
    }
   ],
   "source": [
    "b1 = xf_model_result.params[0]\n",
    "b2 = xf_model_result.params[2]\n",
    "b3 = xf_model_result.params[1]\n",
    "\n",
    "xs = np.arange(df['x'].min(), df['x'].max() + 0.01, 0.01)\n",
    "\n",
    "logistic_xf_control = lambda x : 1 / (1 + np.exp(-(b1 + b2 * x)))\n",
    "logistic_xf_treatment = lambda x : 1 / (1 + np.exp(-(b1 + b2 * x + b3)))\n",
    "\n",
    "y_xf_control = []\n",
    "for x in xs:\n",
    "  y_xf_control.append(logistic_xf_control(x) * 8) # 確率が1の時: 種子数が8の時\n",
    "y_xf_treatment = []\n",
    "for x in xs:\n",
    "  y_xf_treatment.append(logistic_xf_treatment(x) * 8)\n",
    "\n",
    "plt.plot(xs, y_xf_control, c='blue')\n",
    "plt.plot(xs, y_xf_treatment, c='red')"
   ]
  },
  {
   "cell_type": "code",
   "execution_count": 82,
   "metadata": {},
   "outputs": [
    {
     "data": {
      "text/plain": [
       "[<matplotlib.lines.Line2D at 0x7f983e5a5b20>]"
      ]
     },
     "execution_count": 82,
     "metadata": {},
     "output_type": "execute_result"
    },
    {
     "data": {
      "image/png": "[encoded data removed]",
      "text/plain": [
       "<Figure size 432x288 with 1 Axes>"
      ]
     },
     "metadata": {
      "needs_background": "light"
     },
     "output_type": "display_data"
    }
   ],
   "source": [
    "b1_cross = xf_cross_model_result.params[0]\n",
    "b2_cross = xf_cross_model_result.params[2]\n",
    "b3_cross = xf_cross_model_result.params[1]\n",
    "b4_cross = xf_cross_model_result.params[3]\n",
    "\n",
    "\n",
    "logistic_xf_cross_control = lambda x : 1 / (1 + np.exp(-(b1_cross + b2_cross * x)))\n",
    "logistic_xf_cross_treatment = lambda x : 1 / (1 + np.exp(-(b1_cross + (b2_cross + b4_cross) * x + b3_cross)))\n",
    "\n",
    "y_xf_cross_control = []\n",
    "for x in xs:\n",
    "  y_xf_cross_control.append(logistic_xf_cross_control(x) * 8) # 確率が1の時: 種子数が8の時\n",
    "y_xf_cross_treatment = []\n",
    "for x in xs:\n",
    "  y_xf_cross_treatment.append(logistic_xf_cross_treatment(x) * 8)\n",
    "\n",
    "plt.plot(xs, y_xf_cross_control, c='blue')\n",
    "plt.plot(xs, y_xf_cross_treatment, c='red')"
   ]
  },
  {
   "attachments": {},
   "cell_type": "markdown",
   "metadata": {},
   "source": [
    "### 6.6 割算値の統計モデリングはやめよう"
   ]
  },
  {
   "cell_type": "code",
   "execution_count": 3,
   "metadata": {},
   "outputs": [
    {
     "data": {
      "text/html": [
       "<div>\n",
       "<style scoped>\n",
       "    .dataframe tbody tr th:only-of-type {\n",
       "        vertical-align: middle;\n",
       "    }\n",
       "\n",
       "    .dataframe tbody tr th {\n",
       "        vertical-align: top;\n",
       "    }\n",
       "\n",
       "    .dataframe thead th {\n",
       "        text-align: right;\n",
       "    }\n",
       "</style>\n",
       "<table border=\"1\" class=\"dataframe\">\n",
       "  <thead>\n",
       "    <tr style=\"text-align: right;\">\n",
       "      <th></th>\n",
       "      <th>y</th>\n",
       "      <th>x</th>\n",
       "      <th>A</th>\n",
       "    </tr>\n",
       "  </thead>\n",
       "  <tbody>\n",
       "    <tr>\n",
       "      <th>0</th>\n",
       "      <td>57</td>\n",
       "      <td>0.68</td>\n",
       "      <td>10.3</td>\n",
       "    </tr>\n",
       "    <tr>\n",
       "      <th>1</th>\n",
       "      <td>64</td>\n",
       "      <td>0.27</td>\n",
       "      <td>15.6</td>\n",
       "    </tr>\n",
       "    <tr>\n",
       "      <th>2</th>\n",
       "      <td>49</td>\n",
       "      <td>0.46</td>\n",
       "      <td>10.0</td>\n",
       "    </tr>\n",
       "    <tr>\n",
       "      <th>3</th>\n",
       "      <td>64</td>\n",
       "      <td>0.45</td>\n",
       "      <td>14.9</td>\n",
       "    </tr>\n",
       "    <tr>\n",
       "      <th>4</th>\n",
       "      <td>82</td>\n",
       "      <td>0.74</td>\n",
       "      <td>14.0</td>\n",
       "    </tr>\n",
       "  </tbody>\n",
       "</table>\n",
       "</div>"
      ],
      "text/plain": [
       "    y     x     A\n",
       "0  57  0.68  10.3\n",
       "1  64  0.27  15.6\n",
       "2  49  0.46  10.0\n",
       "3  64  0.45  14.9\n",
       "4  82  0.74  14.0"
      ]
     },
     "execution_count": 3,
     "metadata": {},
     "output_type": "execute_result"
    }
   ],
   "source": [
    "file_path = './data/data4b.csv'\n",
    "\n",
    "if not os.path.isfile(file_path):\n",
    "  response = requests.get('https://kuboweb.github.io/-kubo/stat/iwanamibook/fig/binomial/data4b.csv')\n",
    "  with open (file_path, 'wb') as f:\n",
    "      f.write(response.content)\n",
    "      f.close()\n",
    "\n",
    "\n",
    "dfb = pd.read_csv(file_path)\n",
    "dfb.head()"
   ]
  },
  {
   "cell_type": "code",
   "execution_count": 84,
   "metadata": {},
   "outputs": [
    {
     "data": {
      "text/html": [
       "<div>\n",
       "<style scoped>\n",
       "    .dataframe tbody tr th:only-of-type {\n",
       "        vertical-align: middle;\n",
       "    }\n",
       "\n",
       "    .dataframe tbody tr th {\n",
       "        vertical-align: top;\n",
       "    }\n",
       "\n",
       "    .dataframe thead th {\n",
       "        text-align: right;\n",
       "    }\n",
       "</style>\n",
       "<table border=\"1\" class=\"dataframe\">\n",
       "  <thead>\n",
       "    <tr style=\"text-align: right;\">\n",
       "      <th></th>\n",
       "      <th>y</th>\n",
       "      <th>x</th>\n",
       "      <th>A</th>\n",
       "    </tr>\n",
       "  </thead>\n",
       "  <tbody>\n",
       "    <tr>\n",
       "      <th>count</th>\n",
       "      <td>100.000000</td>\n",
       "      <td>100.000000</td>\n",
       "      <td>100.000000</td>\n",
       "    </tr>\n",
       "    <tr>\n",
       "      <th>mean</th>\n",
       "      <td>48.090000</td>\n",
       "      <td>0.514100</td>\n",
       "      <td>10.468000</td>\n",
       "    </tr>\n",
       "    <tr>\n",
       "      <th>std</th>\n",
       "      <td>17.137056</td>\n",
       "      <td>0.188573</td>\n",
       "      <td>2.927262</td>\n",
       "    </tr>\n",
       "    <tr>\n",
       "      <th>min</th>\n",
       "      <td>13.000000</td>\n",
       "      <td>0.050000</td>\n",
       "      <td>3.500000</td>\n",
       "    </tr>\n",
       "    <tr>\n",
       "      <th>25%</th>\n",
       "      <td>36.000000</td>\n",
       "      <td>0.400000</td>\n",
       "      <td>8.800000</td>\n",
       "    </tr>\n",
       "    <tr>\n",
       "      <th>50%</th>\n",
       "      <td>46.000000</td>\n",
       "      <td>0.515000</td>\n",
       "      <td>10.300000</td>\n",
       "    </tr>\n",
       "    <tr>\n",
       "      <th>75%</th>\n",
       "      <td>59.500000</td>\n",
       "      <td>0.642500</td>\n",
       "      <td>12.150000</td>\n",
       "    </tr>\n",
       "    <tr>\n",
       "      <th>max</th>\n",
       "      <td>95.000000</td>\n",
       "      <td>0.990000</td>\n",
       "      <td>17.400000</td>\n",
       "    </tr>\n",
       "  </tbody>\n",
       "</table>\n",
       "</div>"
      ],
      "text/plain": [
       "                y           x           A\n",
       "count  100.000000  100.000000  100.000000\n",
       "mean    48.090000    0.514100   10.468000\n",
       "std     17.137056    0.188573    2.927262\n",
       "min     13.000000    0.050000    3.500000\n",
       "25%     36.000000    0.400000    8.800000\n",
       "50%     46.000000    0.515000   10.300000\n",
       "75%     59.500000    0.642500   12.150000\n",
       "max     95.000000    0.990000   17.400000"
      ]
     },
     "execution_count": 84,
     "metadata": {},
     "output_type": "execute_result"
    }
   ],
   "source": [
    "dfb.describe()"
   ]
  },
  {
   "cell_type": "code",
   "execution_count": 88,
   "metadata": {},
   "outputs": [
    {
     "data": {
      "text/plain": [
       "<matplotlib.collections.PathCollection at 0x7f983e532610>"
      ]
     },
     "execution_count": 88,
     "metadata": {},
     "output_type": "execute_result"
    },
    {
     "data": {
      "image/png": "[encoded data removed]",
      "text/plain": [
       "<Figure size 432x288 with 1 Axes>"
      ]
     },
     "metadata": {
      "needs_background": "light"
     },
     "output_type": "display_data"
    }
   ],
   "source": [
    "plt.scatter(dfb['A'].values, dfb['y'].values)"
   ]
  },
  {
   "cell_type": "code",
   "execution_count": 92,
   "metadata": {},
   "outputs": [
    {
     "data": {
      "text/html": [
       "<table class=\"simpletable\">\n",
       "<caption>Generalized Linear Model Regression Results</caption>\n",
       "<tr>\n",
       "  <th>Dep. Variable:</th>           <td>y</td>        <th>  No. Observations:  </th>  <td>   100</td> \n",
       "</tr>\n",
       "<tr>\n",
       "  <th>Model:</th>                  <td>GLM</td>       <th>  Df Residuals:      </th>  <td>    98</td> \n",
       "</tr>\n",
       "<tr>\n",
       "  <th>Model Family:</th>         <td>Poisson</td>     <th>  Df Model:          </th>  <td>     1</td> \n",
       "</tr>\n",
       "<tr>\n",
       "  <th>Link Function:</th>          <td>Log</td>       <th>  Scale:             </th> <td>  1.0000</td>\n",
       "</tr>\n",
       "<tr>\n",
       "  <th>Method:</th>                <td>IRLS</td>       <th>  Log-Likelihood:    </th> <td> -323.17</td>\n",
       "</tr>\n",
       "<tr>\n",
       "  <th>Date:</th>            <td>Fri, 20 Jan 2023</td> <th>  Deviance:          </th> <td>  81.608</td>\n",
       "</tr>\n",
       "<tr>\n",
       "  <th>Time:</th>                <td>09:41:54</td>     <th>  Pearson chi2:      </th>  <td>  81.5</td> \n",
       "</tr>\n",
       "<tr>\n",
       "  <th>No. Iterations:</th>          <td>4</td>        <th>  Pseudo R-squ. (CS):</th>  <td>0.8345</td> \n",
       "</tr>\n",
       "<tr>\n",
       "  <th>Covariance Type:</th>     <td>nonrobust</td>    <th>                     </th>     <td> </td>   \n",
       "</tr>\n",
       "</table>\n",
       "<table class=\"simpletable\">\n",
       "<tr>\n",
       "      <td></td>         <th>coef</th>     <th>std err</th>      <th>z</th>      <th>P>|z|</th>  <th>[0.025</th>    <th>0.975]</th>  \n",
       "</tr>\n",
       "<tr>\n",
       "  <th>Intercept</th> <td>    0.9731</td> <td>    0.045</td> <td>   21.600</td> <td> 0.000</td> <td>    0.885</td> <td>    1.061</td>\n",
       "</tr>\n",
       "<tr>\n",
       "  <th>x</th>         <td>    1.0383</td> <td>    0.078</td> <td>   13.364</td> <td> 0.000</td> <td>    0.886</td> <td>    1.191</td>\n",
       "</tr>\n",
       "</table>"
      ],
      "text/plain": [
       "<class 'statsmodels.iolib.summary.Summary'>\n",
       "\"\"\"\n",
       "                 Generalized Linear Model Regression Results                  \n",
       "==============================================================================\n",
       "Dep. Variable:                      y   No. Observations:                  100\n",
       "Model:                            GLM   Df Residuals:                       98\n",
       "Model Family:                 Poisson   Df Model:                            1\n",
       "Link Function:                    Log   Scale:                          1.0000\n",
       "Method:                          IRLS   Log-Likelihood:                -323.17\n",
       "Date:                Fri, 20 Jan 2023   Deviance:                       81.608\n",
       "Time:                        09:41:54   Pearson chi2:                     81.5\n",
       "No. Iterations:                     4   Pseudo R-squ. (CS):             0.8345\n",
       "Covariance Type:            nonrobust                                         \n",
       "==============================================================================\n",
       "                 coef    std err          z      P>|z|      [0.025      0.975]\n",
       "------------------------------------------------------------------------------\n",
       "Intercept      0.9731      0.045     21.600      0.000       0.885       1.061\n",
       "x              1.0383      0.078     13.364      0.000       0.886       1.191\n",
       "==============================================================================\n",
       "\"\"\""
      ]
     },
     "execution_count": 92,
     "metadata": {},
     "output_type": "execute_result"
    }
   ],
   "source": [
    "model_offset_result = smf.glm(formula='y ~ x', offset=np.log(dfb['A']), data=dfb, family=sm.families.Poisson()).fit()\n",
    "model_offset_result.summary()"
   ]
  },
  {
   "cell_type": "code",
   "execution_count": 115,
   "metadata": {},
   "outputs": [
    {
     "data": {
      "text/plain": [
       "<matplotlib.collections.PathCollection at 0x7f983de89f10>"
      ]
     },
     "execution_count": 115,
     "metadata": {},
     "output_type": "execute_result"
    },
    {
     "data": {
      "image/png": "[encoded data removed]",
      "text/plain": [
       "<Figure size 432x288 with 1 Axes>"
      ]
     },
     "metadata": {
      "needs_background": "light"
     },
     "output_type": "display_data"
    }
   ],
   "source": [
    "def expected_y(x):\n",
    "  expected_y = []\n",
    "  for i, row in dfb.iterrows():\n",
    "    y = np.exp(model_offset_result.params[0] + model_offset_result.params[1] * x  + np.log(row['A']))\n",
    "    expected_y.append(y)\n",
    "  return expected_y\n",
    "\n",
    "y1 = expected_y(0.1)\n",
    "y2 = expected_y(0.3)\n",
    "y3 = expected_y(0.5)\n",
    "y4 = expected_y(0.7)\n",
    "y5 = expected_y(0.9)\n",
    "\n",
    "# xを固定して予測したモデルにAをいれていく\n",
    "plt.plot(dfb['A'].values, y1, c='y')\n",
    "plt.plot(dfb['A'].values, y2, c='g')\n",
    "plt.plot(dfb['A'].values, y3, c='g')\n",
    "plt.plot(dfb['A'].values, y4, c='g')\n",
    "plt.plot(dfb['A'].values, y5, c='r')\n",
    "plt.scatter(dfb['A'].values, dfb['y'].values, c='b')"
   ]
  },
  {
   "attachments": {},
   "cell_type": "markdown",
   "metadata": {},
   "source": [
    "### 6.7 正規分布とその尤度"
   ]
  },
  {
   "cell_type": "code",
   "execution_count": 119,
   "metadata": {},
   "outputs": [
    {
     "data": {
      "text/plain": [
       "[<matplotlib.lines.Line2D at 0x7f983ddd5400>]"
      ]
     },
     "execution_count": 119,
     "metadata": {},
     "output_type": "execute_result"
    },
    {
     "data": {
      "image/png": "[encoded data removed]",
      "text/plain": [
       "<Figure size 432x288 with 1 Axes>"
      ]
     },
     "metadata": {
      "needs_background": "light"
     },
     "output_type": "display_data"
    }
   ],
   "source": [
    "from scipy.stats import norm\n",
    "\n",
    "x = np.arange(-5.0, 5.0, 0.01)\n",
    "plt.plot(x, [norm.pdf(x_i, 0, 1) for x_i in x], label='平均=0, 分散=1')\n",
    "plt.plot(x, [norm.pdf(x_i, 0, 2) for x_i in x], label='平均=0, 分散=2', c='r')"
   ]
  },
  {
   "cell_type": "code",
   "execution_count": 120,
   "metadata": {},
   "outputs": [
    {
     "data": {
      "text/plain": [
       "0.07913935110878245"
      ]
     },
     "execution_count": 120,
     "metadata": {},
     "output_type": "execute_result"
    }
   ],
   "source": [
    "# 確率の計算(x: 1.8 ~ 1.2の間の確率)\n",
    "norm.cdf(1.8, 0, 1) - norm.cdf(1.2, 0, 1)"
   ]
  },
  {
   "attachments": {},
   "cell_type": "markdown",
   "metadata": {},
   "source": [
    "### 6.8 ガンマ分布のGLM"
   ]
  },
  {
   "cell_type": "code",
   "execution_count": 121,
   "metadata": {},
   "outputs": [
    {
     "data": {
      "image/png": "[encoded data removed]",
      "text/plain": [
       "<Figure size 432x288 with 1 Axes>"
      ]
     },
     "metadata": {
      "needs_background": "light"
     },
     "output_type": "display_data"
    }
   ],
   "source": [
    "# ガンマ分布の確率密度関数\n",
    "from scipy.stats import gamma\n",
    "\n",
    "x = np.arange(0.00, 5.01, 0.01)\n",
    "\n",
    "plt.plot(x, [gamma.pdf(x_i, a=1, scale=1/1) for x_i in x], label='r=s=1')\n",
    "plt.plot(x, [gamma.pdf(x_i, a=5, scale=1/5) for x_i in x], label='r=s=5')\n",
    "plt.plot(x, [gamma.pdf(x_i, a=0.1, scale=1/0.1) for x_i in x], label='r=s=0.1')\n",
    "plt.ylim([0.0, 1.0])\n",
    "plt.legend()\n",
    "plt.xlabel('x')\n",
    "plt.ylabel('probability density')\n",
    "plt.show()"
   ]
  }
 ],
 "metadata": {
  "kernelspec": {
   "display_name": "Python 3",
   "language": "python",
   "name": "python3"
  },
  "language_info": {
   "codemirror_mode": {
    "name": "ipython",
    "version": 3
   },
   "file_extension": ".py",
   "mimetype": "text/x-python",
   "name": "python",
   "nbconvert_exporter": "python",
   "pygments_lexer": "ipython3",
   "version": "3.8.10"
  },
  "orig_nbformat": 4,
  "vscode": {
   "interpreter": {
    "hash": "31f2aee4e71d21fbe5cf8b01ff0e069b9275f58929596ceb00d14d90e3e16cd6"
   }
  }
 },
 "nbformat": 4,
 "nbformat_minor": 2
}
